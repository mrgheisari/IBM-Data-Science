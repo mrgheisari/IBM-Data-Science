{
  "metadata": {
    "language_info": {
      "codemirror_mode": {
        "name": "python",
        "version": 3
      },
      "file_extension": ".py",
      "mimetype": "text/x-python",
      "name": "python",
      "nbconvert_exporter": "python",
      "pygments_lexer": "ipython3",
      "version": "3.8"
    },
    "kernelspec": {
      "name": "python",
      "display_name": "Pyolite",
      "language": "python"
    }
  },
  "nbformat_minor": 4,
  "nbformat": 4,
  "cells": [
    {
      "cell_type": "markdown",
      "source": "<p style=\"text-align:center\">\n    <a href=\"https://skills.network/?utm_medium=Exinfluencer&utm_source=Exinfluencer&utm_content=000026UJ&utm_term=10006555&utm_id=NA-SkillsNetwork-Channel-SkillsNetworkCoursesIBMDS0321ENSkillsNetwork26802033-2022-01-01\" target=\"_blank\">\n    <img src=\"https://cf-courses-data.s3.us.cloud-object-storage.appdomain.cloud/assets/logos/SN_web_lightmode.png\" width=\"200\" alt=\"Skills Network Logo\"  />\n    </a>\n</p>\n",
      "metadata": {}
    },
    {
      "cell_type": "markdown",
      "source": "# **Launch Sites Locations Analysis with Folium**\n",
      "metadata": {}
    },
    {
      "cell_type": "markdown",
      "source": "Estimated time needed: **40** minutes\n",
      "metadata": {}
    },
    {
      "cell_type": "markdown",
      "source": "The launch success rate may depend on many factors such as payload mass, orbit type, and so on. It may also depend on the location and proximities of a launch site, i.e., the initial position of rocket trajectories. Finding an optimal location for building a launch site certainly involves many factors and hopefully we could discover some of the factors by analyzing the existing launch site locations.\n",
      "metadata": {}
    },
    {
      "cell_type": "markdown",
      "source": "In the previous exploratory data analysis labs, you have visualized the SpaceX launch dataset using `matplotlib` and `seaborn` and discovered some preliminary correlations between the launch site and success rates. In this lab, you will be performing more interactive visual analytics using `Folium`.\n",
      "metadata": {}
    },
    {
      "cell_type": "markdown",
      "source": "## Objectives\n",
      "metadata": {}
    },
    {
      "cell_type": "markdown",
      "source": "This lab contains the following tasks:\n\n*   **TASK 1:** Mark all launch sites on a map\n*   **TASK 2:** Mark the success/failed launches for each site on the map\n*   **TASK 3:** Calculate the distances between a launch site to its proximities\n\nAfter completed the above tasks, you should be able to find some geographical patterns about launch sites.\n",
      "metadata": {}
    },
    {
      "cell_type": "markdown",
      "source": "Let's first import required Python packages for this lab:\n",
      "metadata": {}
    },
    {
      "cell_type": "code",
      "source": "import piplite\nawait piplite.install(['folium'])\nawait piplite.install(['pandas'])",
      "metadata": {
        "trusted": true
      },
      "execution_count": 1,
      "outputs": []
    },
    {
      "cell_type": "code",
      "source": "import folium\nimport pandas as pd",
      "metadata": {
        "trusted": true
      },
      "execution_count": 2,
      "outputs": []
    },
    {
      "cell_type": "code",
      "source": "# Import folium MarkerCluster plugin\nfrom folium.plugins import MarkerCluster\n# Import folium MousePosition plugin\nfrom folium.plugins import MousePosition\n# Import folium DivIcon plugin\nfrom folium.features import DivIcon",
      "metadata": {
        "trusted": true
      },
      "execution_count": 3,
      "outputs": []
    },
    {
      "cell_type": "markdown",
      "source": "If you need to refresh your memory about folium, you may download and refer to this previous folium lab:\n",
      "metadata": {}
    },
    {
      "cell_type": "markdown",
      "source": "[Generating Maps with Python](https://cf-courses-data.s3.us.cloud-object-storage.appdomain.cloud/IBM-DS0321EN-SkillsNetwork/labs/module\\_3/DV0101EN-3-5-1-Generating-Maps-in-Python-py-v2.0.ipynb)\n",
      "metadata": {}
    },
    {
      "cell_type": "code",
      "source": "## Task 1: Mark all launch sites on a map\n",
      "metadata": {},
      "execution_count": null,
      "outputs": []
    },
    {
      "cell_type": "markdown",
      "source": "First, let's try to add each site's location on a map using site's latitude and longitude coordinates\n",
      "metadata": {}
    },
    {
      "cell_type": "markdown",
      "source": "The following dataset with the name `spacex_launch_geo.csv` is an augmented dataset with latitude and longitude added for each site.\n",
      "metadata": {}
    },
    {
      "cell_type": "code",
      "source": "# Download and read the `spacex_launch_geo.csv`\nfrom js import fetch\nimport io\n\nURL = 'https://cf-courses-data.s3.us.cloud-object-storage.appdomain.cloud/IBM-DS0321EN-SkillsNetwork/datasets/spacex_launch_geo.csv'\nresp = await fetch(URL)\nspacex_csv_file = io.BytesIO((await resp.arrayBuffer()).to_py())\nspacex_df=pd.read_csv(spacex_csv_file)",
      "metadata": {
        "trusted": true
      },
      "execution_count": 4,
      "outputs": []
    },
    {
      "cell_type": "markdown",
      "source": "Now, you can take a look at what are the coordinates for each site.\n",
      "metadata": {}
    },
    {
      "cell_type": "code",
      "source": "# Select relevant sub-columns: `Launch Site`, `Lat(Latitude)`, `Long(Longitude)`, `class`\nspacex_df = spacex_df[['Launch Site', 'Lat', 'Long', 'class']]\nlaunch_sites_df = spacex_df.groupby(['Launch Site'], as_index=False).first()\nlaunch_sites_df = launch_sites_df[['Launch Site', 'Lat', 'Long']]\nlaunch_sites_df",
      "metadata": {
        "trusted": true
      },
      "execution_count": 61,
      "outputs": [
        {
          "execution_count": 61,
          "output_type": "execute_result",
          "data": {
            "text/plain": "    Launch Site        Lat        Long\n0   CCAFS LC-40  28.562302  -80.577356\n1  CCAFS SLC-40  28.563197  -80.576820\n2    KSC LC-39A  28.573255  -80.646895\n3   VAFB SLC-4E  34.632834 -120.610745",
            "text/html": "<div>\n<style scoped>\n    .dataframe tbody tr th:only-of-type {\n        vertical-align: middle;\n    }\n\n    .dataframe tbody tr th {\n        vertical-align: top;\n    }\n\n    .dataframe thead th {\n        text-align: right;\n    }\n</style>\n<table border=\"1\" class=\"dataframe\">\n  <thead>\n    <tr style=\"text-align: right;\">\n      <th></th>\n      <th>Launch Site</th>\n      <th>Lat</th>\n      <th>Long</th>\n    </tr>\n  </thead>\n  <tbody>\n    <tr>\n      <th>0</th>\n      <td>CCAFS LC-40</td>\n      <td>28.562302</td>\n      <td>-80.577356</td>\n    </tr>\n    <tr>\n      <th>1</th>\n      <td>CCAFS SLC-40</td>\n      <td>28.563197</td>\n      <td>-80.576820</td>\n    </tr>\n    <tr>\n      <th>2</th>\n      <td>KSC LC-39A</td>\n      <td>28.573255</td>\n      <td>-80.646895</td>\n    </tr>\n    <tr>\n      <th>3</th>\n      <td>VAFB SLC-4E</td>\n      <td>34.632834</td>\n      <td>-120.610745</td>\n    </tr>\n  </tbody>\n</table>\n</div>"
          },
          "metadata": {}
        }
      ]
    },
    {
      "cell_type": "markdown",
      "source": "Above coordinates are just plain numbers that can not give you any intuitive insights about where are those launch sites. If you are very good at geography, you can interpret those numbers directly in your mind. If not, that's fine too. Let's visualize those locations by pinning them on a map.\n",
      "metadata": {}
    },
    {
      "cell_type": "markdown",
      "source": "We first need to create a folium `Map` object, with an initial center location to be NASA Johnson Space Center at Houston, Texas.\n",
      "metadata": {}
    },
    {
      "cell_type": "code",
      "source": "# Start location is NASA Johnson Space Center\nnasa_coordinate = [29.559684888503615, -95.0830971930759]\nsite_map = folium.Map(location=nasa_coordinate, zoom_start=10)",
      "metadata": {
        "trusted": true
      },
      "execution_count": 12,
      "outputs": []
    },
    {
      "cell_type": "markdown",
      "source": "We could use `folium.Circle` to add a highlighted circle area with a text label on a specific coordinate. For example,\n",
      "metadata": {}
    },
    {
      "cell_type": "code",
      "source": "# Create a blue circle at NASA Johnson Space Center's coordinate with a popup label showing its name\ncircle = folium.Circle(nasa_coordinate, radius=1000, color='#d35400', fill=True).add_child(folium.Popup('NASA Johnson Space Center'))\n# Create a blue circle at NASA Johnson Space Center's coordinate with a icon showing its name\nmarker = folium.map.Marker(\n    nasa_coordinate,\n    # Create an icon as a text label\n    icon=DivIcon(\n        icon_size=(20,20),\n        icon_anchor=(0,0),\n        html='<div style=\"font-size: 12; color:#d35400;\"><b>%s</b></div>' % 'NASA JSC',\n        )\n    )\nsite_map.add_child(circle)\nsite_map.add_child(marker)",
      "metadata": {
        "trusted": true
      },
      "execution_count": 13,
      "outputs": [
        {
          "execution_count": 13,
          "output_type": "execute_result",
          "data": {
            "text/plain": "<folium.folium.Map at 0x3f1cad8>",
            "text/html": "<div style=\"width:100%;\"><div style=\"position:relative;width:100%;height:0;padding-bottom:60%;\"><span style=\"color:#565656\">Make this Notebook Trusted to load map: File -> Trust Notebook</span><iframe srcdoc=\"&lt;!DOCTYPE html&gt;\n&lt;html&gt;\n&lt;head&gt;\n    \n    &lt;meta http-equiv=&quot;content-type&quot; content=&quot;text/html; charset=UTF-8&quot; /&gt;\n    \n        &lt;script&gt;\n            L_NO_TOUCH = false;\n            L_DISABLE_3D = false;\n        &lt;/script&gt;\n    \n    &lt;style&gt;html, body {width: 100%;height: 100%;margin: 0;padding: 0;}&lt;/style&gt;\n    &lt;style&gt;#map {position:absolute;top:0;bottom:0;right:0;left:0;}&lt;/style&gt;\n    &lt;script src=&quot;https://cdn.jsdelivr.net/npm/leaflet@1.9.3/dist/leaflet.js&quot;&gt;&lt;/script&gt;\n    &lt;script src=&quot;https://code.jquery.com/jquery-1.12.4.min.js&quot;&gt;&lt;/script&gt;\n    &lt;script src=&quot;https://cdn.jsdelivr.net/npm/bootstrap@5.2.2/dist/js/bootstrap.bundle.min.js&quot;&gt;&lt;/script&gt;\n    &lt;script src=&quot;https://cdnjs.cloudflare.com/ajax/libs/Leaflet.awesome-markers/2.0.2/leaflet.awesome-markers.js&quot;&gt;&lt;/script&gt;\n    &lt;link rel=&quot;stylesheet&quot; href=&quot;https://cdn.jsdelivr.net/npm/leaflet@1.9.3/dist/leaflet.css&quot;/&gt;\n    &lt;link rel=&quot;stylesheet&quot; href=&quot;https://cdn.jsdelivr.net/npm/bootstrap@5.2.2/dist/css/bootstrap.min.css&quot;/&gt;\n    &lt;link rel=&quot;stylesheet&quot; href=&quot;https://netdna.bootstrapcdn.com/bootstrap/3.0.0/css/bootstrap.min.css&quot;/&gt;\n    &lt;link rel=&quot;stylesheet&quot; href=&quot;https://cdn.jsdelivr.net/npm/@fortawesome/fontawesome-free@6.2.0/css/all.min.css&quot;/&gt;\n    &lt;link rel=&quot;stylesheet&quot; href=&quot;https://cdnjs.cloudflare.com/ajax/libs/Leaflet.awesome-markers/2.0.2/leaflet.awesome-markers.css&quot;/&gt;\n    &lt;link rel=&quot;stylesheet&quot; href=&quot;https://cdn.jsdelivr.net/gh/python-visualization/folium/folium/templates/leaflet.awesome.rotate.min.css&quot;/&gt;\n    \n            &lt;meta name=&quot;viewport&quot; content=&quot;width=device-width,\n                initial-scale=1.0, maximum-scale=1.0, user-scalable=no&quot; /&gt;\n            &lt;style&gt;\n                #map_d5746ee5503bb28507881a09c6cb397b {\n                    position: relative;\n                    width: 100.0%;\n                    height: 100.0%;\n                    left: 0.0%;\n                    top: 0.0%;\n                }\n                .leaflet-container { font-size: 1rem; }\n            &lt;/style&gt;\n        \n&lt;/head&gt;\n&lt;body&gt;\n    \n    \n            &lt;div class=&quot;folium-map&quot; id=&quot;map_d5746ee5503bb28507881a09c6cb397b&quot; &gt;&lt;/div&gt;\n        \n&lt;/body&gt;\n&lt;script&gt;\n    \n    \n            var map_d5746ee5503bb28507881a09c6cb397b = L.map(\n                &quot;map_d5746ee5503bb28507881a09c6cb397b&quot;,\n                {\n                    center: [29.559684888503615, -95.0830971930759],\n                    crs: L.CRS.EPSG3857,\n                    zoom: 10,\n                    zoomControl: true,\n                    preferCanvas: false,\n                }\n            );\n\n            \n\n        \n    \n            var tile_layer_5fc5d9571a13c56bf523be57dc2f9e1d = L.tileLayer(\n                &quot;https://{s}.tile.openstreetmap.org/{z}/{x}/{y}.png&quot;,\n                {&quot;attribution&quot;: &quot;Data by \\u0026copy; \\u003ca target=\\&quot;_blank\\&quot; href=\\&quot;http://openstreetmap.org\\&quot;\\u003eOpenStreetMap\\u003c/a\\u003e, under \\u003ca target=\\&quot;_blank\\&quot; href=\\&quot;http://www.openstreetmap.org/copyright\\&quot;\\u003eODbL\\u003c/a\\u003e.&quot;, &quot;detectRetina&quot;: false, &quot;maxNativeZoom&quot;: 18, &quot;maxZoom&quot;: 18, &quot;minZoom&quot;: 0, &quot;noWrap&quot;: false, &quot;opacity&quot;: 1, &quot;subdomains&quot;: &quot;abc&quot;, &quot;tms&quot;: false}\n            ).addTo(map_d5746ee5503bb28507881a09c6cb397b);\n        \n    \n            var circle_91652652c1d762d521fa65aa29417002 = L.circle(\n                [29.559684888503615, -95.0830971930759],\n                {&quot;bubblingMouseEvents&quot;: true, &quot;color&quot;: &quot;#d35400&quot;, &quot;dashArray&quot;: null, &quot;dashOffset&quot;: null, &quot;fill&quot;: true, &quot;fillColor&quot;: &quot;#d35400&quot;, &quot;fillOpacity&quot;: 0.2, &quot;fillRule&quot;: &quot;evenodd&quot;, &quot;lineCap&quot;: &quot;round&quot;, &quot;lineJoin&quot;: &quot;round&quot;, &quot;opacity&quot;: 1.0, &quot;radius&quot;: 1000, &quot;stroke&quot;: true, &quot;weight&quot;: 3}\n            ).addTo(map_d5746ee5503bb28507881a09c6cb397b);\n        \n    \n        var popup_77a4bd06dd6612c9cb5035b04aa8a74e = L.popup({&quot;maxWidth&quot;: &quot;100%&quot;});\n\n        \n            \n                var html_3721b9334671db5be05ddc7263991fe6 = $(`&lt;div id=&quot;html_3721b9334671db5be05ddc7263991fe6&quot; style=&quot;width: 100.0%; height: 100.0%;&quot;&gt;NASA Johnson Space Center&lt;/div&gt;`)[0];\n                popup_77a4bd06dd6612c9cb5035b04aa8a74e.setContent(html_3721b9334671db5be05ddc7263991fe6);\n            \n        \n\n        circle_91652652c1d762d521fa65aa29417002.bindPopup(popup_77a4bd06dd6612c9cb5035b04aa8a74e)\n        ;\n\n        \n    \n    \n            var marker_0838aeed3a481320e01c0ac9912a4825 = L.marker(\n                [29.559684888503615, -95.0830971930759],\n                {}\n            ).addTo(map_d5746ee5503bb28507881a09c6cb397b);\n        \n    \n            var div_icon_836a68d9297e5fc0f5ed43b662a8341d = L.divIcon({&quot;className&quot;: &quot;empty&quot;, &quot;html&quot;: &quot;\\u003cdiv style=\\&quot;font-size: 12; color:#d35400;\\&quot;\\u003e\\u003cb\\u003eNASA JSC\\u003c/b\\u003e\\u003c/div\\u003e&quot;, &quot;iconAnchor&quot;: [0, 0], &quot;iconSize&quot;: [20, 20]});\n            marker_0838aeed3a481320e01c0ac9912a4825.setIcon(div_icon_836a68d9297e5fc0f5ed43b662a8341d);\n        \n&lt;/script&gt;\n&lt;/html&gt;\" style=\"position:absolute;width:100%;height:100%;left:0;top:0;border:none !important;\" allowfullscreen webkitallowfullscreen mozallowfullscreen></iframe></div></div>"
          },
          "metadata": {}
        }
      ]
    },
    {
      "cell_type": "markdown",
      "source": "and you should find a small yellow circle near the city of Houston and you can zoom-in to see a larger circle.\n",
      "metadata": {}
    },
    {
      "cell_type": "markdown",
      "source": "Now, let's add a circle for each launch site in data frame `launch_sites`\n",
      "metadata": {}
    },
    {
      "cell_type": "markdown",
      "source": "*TODO:*  Create and add `folium.Circle` and `folium.Marker` for each launch site on the site map\n",
      "metadata": {}
    },
    {
      "cell_type": "markdown",
      "source": "An example of folium.Circle:\n",
      "metadata": {}
    },
    {
      "cell_type": "markdown",
      "source": "`folium.Circle(coordinate, radius=1000, color='#000000', fill=True).add_child(folium.Popup(...))`\n",
      "metadata": {}
    },
    {
      "cell_type": "markdown",
      "source": "An example of folium.Marker:\n",
      "metadata": {}
    },
    {
      "cell_type": "markdown",
      "source": "`folium.map.Marker(coordinate, icon=DivIcon(icon_size=(20,20),icon_anchor=(0,0), html='<div style=\"font-size: 12; color:#d35400;\"><b>%s</b></div>' % 'label', ))`\n",
      "metadata": {}
    },
    {
      "cell_type": "code",
      "source": "# Initial the map\nsite_map = folium.Map(location=nasa_coordinate, zoom_start=5)\n\n# For each launch site, add a Circle object based on its coordinate (Lat, Long) values. In addition, add Launch site name as a popup label\nfor _, launch_site in launch_sites_df.iterrows():\n    coord = [launch_site['Lat'], launch_site['Long']]\n    ls_name = launch_site['Launch Site']\n    # print(ls_name, coord)\n    # Create a blue circle at site's coordinate with a popup label showing its name\n    circle = folium.Circle(coord, radius=1000, color='#0054d3', fill=True).add_child(folium.Popup(ls_name))\n    # Create a blue circle at site's coordinate with a icon showing its name\n    marker = folium.map.Marker(\n        coord, icon=DivIcon(icon_size=(20,20), icon_anchor=(0,0), html='<div style=\"font-size: 12; color:#0054d3;\"><b>%s</b></div>' % ls_name))\n    site_map.add_child(circle)\n    site_map.add_child(marker)\n    \nsite_map",
      "metadata": {
        "trusted": true
      },
      "execution_count": 82,
      "outputs": [
        {
          "execution_count": 82,
          "output_type": "execute_result",
          "data": {
            "text/plain": "<folium.folium.Map at 0x634f8b0>",
            "text/html": "<div style=\"width:100%;\"><div style=\"position:relative;width:100%;height:0;padding-bottom:60%;\"><span style=\"color:#565656\">Make this Notebook Trusted to load map: File -> Trust Notebook</span><iframe srcdoc=\"&lt;!DOCTYPE html&gt;\n&lt;html&gt;\n&lt;head&gt;\n    \n    &lt;meta http-equiv=&quot;content-type&quot; content=&quot;text/html; charset=UTF-8&quot; /&gt;\n    \n        &lt;script&gt;\n            L_NO_TOUCH = false;\n            L_DISABLE_3D = false;\n        &lt;/script&gt;\n    \n    &lt;style&gt;html, body {width: 100%;height: 100%;margin: 0;padding: 0;}&lt;/style&gt;\n    &lt;style&gt;#map {position:absolute;top:0;bottom:0;right:0;left:0;}&lt;/style&gt;\n    &lt;script src=&quot;https://cdn.jsdelivr.net/npm/leaflet@1.9.3/dist/leaflet.js&quot;&gt;&lt;/script&gt;\n    &lt;script src=&quot;https://code.jquery.com/jquery-1.12.4.min.js&quot;&gt;&lt;/script&gt;\n    &lt;script src=&quot;https://cdn.jsdelivr.net/npm/bootstrap@5.2.2/dist/js/bootstrap.bundle.min.js&quot;&gt;&lt;/script&gt;\n    &lt;script src=&quot;https://cdnjs.cloudflare.com/ajax/libs/Leaflet.awesome-markers/2.0.2/leaflet.awesome-markers.js&quot;&gt;&lt;/script&gt;\n    &lt;link rel=&quot;stylesheet&quot; href=&quot;https://cdn.jsdelivr.net/npm/leaflet@1.9.3/dist/leaflet.css&quot;/&gt;\n    &lt;link rel=&quot;stylesheet&quot; href=&quot;https://cdn.jsdelivr.net/npm/bootstrap@5.2.2/dist/css/bootstrap.min.css&quot;/&gt;\n    &lt;link rel=&quot;stylesheet&quot; href=&quot;https://netdna.bootstrapcdn.com/bootstrap/3.0.0/css/bootstrap.min.css&quot;/&gt;\n    &lt;link rel=&quot;stylesheet&quot; href=&quot;https://cdn.jsdelivr.net/npm/@fortawesome/fontawesome-free@6.2.0/css/all.min.css&quot;/&gt;\n    &lt;link rel=&quot;stylesheet&quot; href=&quot;https://cdnjs.cloudflare.com/ajax/libs/Leaflet.awesome-markers/2.0.2/leaflet.awesome-markers.css&quot;/&gt;\n    &lt;link rel=&quot;stylesheet&quot; href=&quot;https://cdn.jsdelivr.net/gh/python-visualization/folium/folium/templates/leaflet.awesome.rotate.min.css&quot;/&gt;\n    \n            &lt;meta name=&quot;viewport&quot; content=&quot;width=device-width,\n                initial-scale=1.0, maximum-scale=1.0, user-scalable=no&quot; /&gt;\n            &lt;style&gt;\n                #map_d69e088c66917fed0ef2caea379b7a39 {\n                    position: relative;\n                    width: 100.0%;\n                    height: 100.0%;\n                    left: 0.0%;\n                    top: 0.0%;\n                }\n                .leaflet-container { font-size: 1rem; }\n            &lt;/style&gt;\n        \n&lt;/head&gt;\n&lt;body&gt;\n    \n    \n            &lt;div class=&quot;folium-map&quot; id=&quot;map_d69e088c66917fed0ef2caea379b7a39&quot; &gt;&lt;/div&gt;\n        \n&lt;/body&gt;\n&lt;script&gt;\n    \n    \n            var map_d69e088c66917fed0ef2caea379b7a39 = L.map(\n                &quot;map_d69e088c66917fed0ef2caea379b7a39&quot;,\n                {\n                    center: [29.559684888503615, -95.0830971930759],\n                    crs: L.CRS.EPSG3857,\n                    zoom: 5,\n                    zoomControl: true,\n                    preferCanvas: false,\n                }\n            );\n\n            \n\n        \n    \n            var tile_layer_620a44026e01f7a2103d03cb6f0c05a4 = L.tileLayer(\n                &quot;https://{s}.tile.openstreetmap.org/{z}/{x}/{y}.png&quot;,\n                {&quot;attribution&quot;: &quot;Data by \\u0026copy; \\u003ca target=\\&quot;_blank\\&quot; href=\\&quot;http://openstreetmap.org\\&quot;\\u003eOpenStreetMap\\u003c/a\\u003e, under \\u003ca target=\\&quot;_blank\\&quot; href=\\&quot;http://www.openstreetmap.org/copyright\\&quot;\\u003eODbL\\u003c/a\\u003e.&quot;, &quot;detectRetina&quot;: false, &quot;maxNativeZoom&quot;: 18, &quot;maxZoom&quot;: 18, &quot;minZoom&quot;: 0, &quot;noWrap&quot;: false, &quot;opacity&quot;: 1, &quot;subdomains&quot;: &quot;abc&quot;, &quot;tms&quot;: false}\n            ).addTo(map_d69e088c66917fed0ef2caea379b7a39);\n        \n    \n            var circle_95611265209e171e1055d7c1867bc45d = L.circle(\n                [28.56230197, -80.57735648],\n                {&quot;bubblingMouseEvents&quot;: true, &quot;color&quot;: &quot;#0054d3&quot;, &quot;dashArray&quot;: null, &quot;dashOffset&quot;: null, &quot;fill&quot;: true, &quot;fillColor&quot;: &quot;#0054d3&quot;, &quot;fillOpacity&quot;: 0.2, &quot;fillRule&quot;: &quot;evenodd&quot;, &quot;lineCap&quot;: &quot;round&quot;, &quot;lineJoin&quot;: &quot;round&quot;, &quot;opacity&quot;: 1.0, &quot;radius&quot;: 1000, &quot;stroke&quot;: true, &quot;weight&quot;: 3}\n            ).addTo(map_d69e088c66917fed0ef2caea379b7a39);\n        \n    \n        var popup_7a173bf54b87990430553e3e4bb78406 = L.popup({&quot;maxWidth&quot;: &quot;100%&quot;});\n\n        \n            \n                var html_f4bbcb2ca838dc33824e8a0112cae82f = $(`&lt;div id=&quot;html_f4bbcb2ca838dc33824e8a0112cae82f&quot; style=&quot;width: 100.0%; height: 100.0%;&quot;&gt;CCAFS LC-40&lt;/div&gt;`)[0];\n                popup_7a173bf54b87990430553e3e4bb78406.setContent(html_f4bbcb2ca838dc33824e8a0112cae82f);\n            \n        \n\n        circle_95611265209e171e1055d7c1867bc45d.bindPopup(popup_7a173bf54b87990430553e3e4bb78406)\n        ;\n\n        \n    \n    \n            var marker_6aa2482298c0c191af95a56ddbdcafff = L.marker(\n                [28.56230197, -80.57735648],\n                {}\n            ).addTo(map_d69e088c66917fed0ef2caea379b7a39);\n        \n    \n            var div_icon_5cb7cb91ea5452675d821fb0d8970e3c = L.divIcon({&quot;className&quot;: &quot;empty&quot;, &quot;html&quot;: &quot;\\u003cdiv style=\\&quot;font-size: 12; color:#0054d3;\\&quot;\\u003e\\u003cb\\u003eCCAFS LC-40\\u003c/b\\u003e\\u003c/div\\u003e&quot;, &quot;iconAnchor&quot;: [0, 0], &quot;iconSize&quot;: [20, 20]});\n            marker_6aa2482298c0c191af95a56ddbdcafff.setIcon(div_icon_5cb7cb91ea5452675d821fb0d8970e3c);\n        \n    \n            var circle_60d5801f698da0f8e2f161ab5d5684ad = L.circle(\n                [28.56319718, -80.57682003],\n                {&quot;bubblingMouseEvents&quot;: true, &quot;color&quot;: &quot;#0054d3&quot;, &quot;dashArray&quot;: null, &quot;dashOffset&quot;: null, &quot;fill&quot;: true, &quot;fillColor&quot;: &quot;#0054d3&quot;, &quot;fillOpacity&quot;: 0.2, &quot;fillRule&quot;: &quot;evenodd&quot;, &quot;lineCap&quot;: &quot;round&quot;, &quot;lineJoin&quot;: &quot;round&quot;, &quot;opacity&quot;: 1.0, &quot;radius&quot;: 1000, &quot;stroke&quot;: true, &quot;weight&quot;: 3}\n            ).addTo(map_d69e088c66917fed0ef2caea379b7a39);\n        \n    \n        var popup_c5d4018cc1968bd999b038f8953c7020 = L.popup({&quot;maxWidth&quot;: &quot;100%&quot;});\n\n        \n            \n                var html_8838d5b6fcc59918442cd075b1b4c0e5 = $(`&lt;div id=&quot;html_8838d5b6fcc59918442cd075b1b4c0e5&quot; style=&quot;width: 100.0%; height: 100.0%;&quot;&gt;CCAFS SLC-40&lt;/div&gt;`)[0];\n                popup_c5d4018cc1968bd999b038f8953c7020.setContent(html_8838d5b6fcc59918442cd075b1b4c0e5);\n            \n        \n\n        circle_60d5801f698da0f8e2f161ab5d5684ad.bindPopup(popup_c5d4018cc1968bd999b038f8953c7020)\n        ;\n\n        \n    \n    \n            var marker_334f94b8a14dc77cf5e4005675302bf7 = L.marker(\n                [28.56319718, -80.57682003],\n                {}\n            ).addTo(map_d69e088c66917fed0ef2caea379b7a39);\n        \n    \n            var div_icon_192b5ebaf9a82c1a92fcda6600ef4bb5 = L.divIcon({&quot;className&quot;: &quot;empty&quot;, &quot;html&quot;: &quot;\\u003cdiv style=\\&quot;font-size: 12; color:#0054d3;\\&quot;\\u003e\\u003cb\\u003eCCAFS SLC-40\\u003c/b\\u003e\\u003c/div\\u003e&quot;, &quot;iconAnchor&quot;: [0, 0], &quot;iconSize&quot;: [20, 20]});\n            marker_334f94b8a14dc77cf5e4005675302bf7.setIcon(div_icon_192b5ebaf9a82c1a92fcda6600ef4bb5);\n        \n    \n            var circle_3ef01602ec87500bdcc1bc70180e3160 = L.circle(\n                [28.57325457, -80.64689529],\n                {&quot;bubblingMouseEvents&quot;: true, &quot;color&quot;: &quot;#0054d3&quot;, &quot;dashArray&quot;: null, &quot;dashOffset&quot;: null, &quot;fill&quot;: true, &quot;fillColor&quot;: &quot;#0054d3&quot;, &quot;fillOpacity&quot;: 0.2, &quot;fillRule&quot;: &quot;evenodd&quot;, &quot;lineCap&quot;: &quot;round&quot;, &quot;lineJoin&quot;: &quot;round&quot;, &quot;opacity&quot;: 1.0, &quot;radius&quot;: 1000, &quot;stroke&quot;: true, &quot;weight&quot;: 3}\n            ).addTo(map_d69e088c66917fed0ef2caea379b7a39);\n        \n    \n        var popup_b315a2fbfd080e267fad0effb192ac91 = L.popup({&quot;maxWidth&quot;: &quot;100%&quot;});\n\n        \n            \n                var html_a7f2fb8a6cc871dc4557e01b07eb833c = $(`&lt;div id=&quot;html_a7f2fb8a6cc871dc4557e01b07eb833c&quot; style=&quot;width: 100.0%; height: 100.0%;&quot;&gt;KSC LC-39A&lt;/div&gt;`)[0];\n                popup_b315a2fbfd080e267fad0effb192ac91.setContent(html_a7f2fb8a6cc871dc4557e01b07eb833c);\n            \n        \n\n        circle_3ef01602ec87500bdcc1bc70180e3160.bindPopup(popup_b315a2fbfd080e267fad0effb192ac91)\n        ;\n\n        \n    \n    \n            var marker_0b3d7ff6961d2d9032ba38a433f1d740 = L.marker(\n                [28.57325457, -80.64689529],\n                {}\n            ).addTo(map_d69e088c66917fed0ef2caea379b7a39);\n        \n    \n            var div_icon_8134553081e86cf6211532d0aa11e9d5 = L.divIcon({&quot;className&quot;: &quot;empty&quot;, &quot;html&quot;: &quot;\\u003cdiv style=\\&quot;font-size: 12; color:#0054d3;\\&quot;\\u003e\\u003cb\\u003eKSC LC-39A\\u003c/b\\u003e\\u003c/div\\u003e&quot;, &quot;iconAnchor&quot;: [0, 0], &quot;iconSize&quot;: [20, 20]});\n            marker_0b3d7ff6961d2d9032ba38a433f1d740.setIcon(div_icon_8134553081e86cf6211532d0aa11e9d5);\n        \n    \n            var circle_1af41a98af574a7b05155f4d672b9c5f = L.circle(\n                [34.63283416, -120.6107455],\n                {&quot;bubblingMouseEvents&quot;: true, &quot;color&quot;: &quot;#0054d3&quot;, &quot;dashArray&quot;: null, &quot;dashOffset&quot;: null, &quot;fill&quot;: true, &quot;fillColor&quot;: &quot;#0054d3&quot;, &quot;fillOpacity&quot;: 0.2, &quot;fillRule&quot;: &quot;evenodd&quot;, &quot;lineCap&quot;: &quot;round&quot;, &quot;lineJoin&quot;: &quot;round&quot;, &quot;opacity&quot;: 1.0, &quot;radius&quot;: 1000, &quot;stroke&quot;: true, &quot;weight&quot;: 3}\n            ).addTo(map_d69e088c66917fed0ef2caea379b7a39);\n        \n    \n        var popup_cc8b6c00bf62f197fe6927afe22ca15a = L.popup({&quot;maxWidth&quot;: &quot;100%&quot;});\n\n        \n            \n                var html_548eb43d36ae4c9c107a9c47071914c2 = $(`&lt;div id=&quot;html_548eb43d36ae4c9c107a9c47071914c2&quot; style=&quot;width: 100.0%; height: 100.0%;&quot;&gt;VAFB SLC-4E&lt;/div&gt;`)[0];\n                popup_cc8b6c00bf62f197fe6927afe22ca15a.setContent(html_548eb43d36ae4c9c107a9c47071914c2);\n            \n        \n\n        circle_1af41a98af574a7b05155f4d672b9c5f.bindPopup(popup_cc8b6c00bf62f197fe6927afe22ca15a)\n        ;\n\n        \n    \n    \n            var marker_32260a63d6535274a2ed46accd395c50 = L.marker(\n                [34.63283416, -120.6107455],\n                {}\n            ).addTo(map_d69e088c66917fed0ef2caea379b7a39);\n        \n    \n            var div_icon_dbf0c921271f1201aaed8359c5822d86 = L.divIcon({&quot;className&quot;: &quot;empty&quot;, &quot;html&quot;: &quot;\\u003cdiv style=\\&quot;font-size: 12; color:#0054d3;\\&quot;\\u003e\\u003cb\\u003eVAFB SLC-4E\\u003c/b\\u003e\\u003c/div\\u003e&quot;, &quot;iconAnchor&quot;: [0, 0], &quot;iconSize&quot;: [20, 20]});\n            marker_32260a63d6535274a2ed46accd395c50.setIcon(div_icon_dbf0c921271f1201aaed8359c5822d86);\n        \n&lt;/script&gt;\n&lt;/html&gt;\" style=\"position:absolute;width:100%;height:100%;left:0;top:0;border:none !important;\" allowfullscreen webkitallowfullscreen mozallowfullscreen></iframe></div></div>"
          },
          "metadata": {}
        }
      ]
    },
    {
      "cell_type": "markdown",
      "source": "The generated map with marked launch sites should look similar to the following:\n",
      "metadata": {}
    },
    {
      "cell_type": "markdown",
      "source": "<center>\n    <img src=\"https://cf-courses-data.s3.us.cloud-object-storage.appdomain.cloud/IBM-DS0321EN-SkillsNetwork/labs/module_3/images/launch_site_markers.png\">\n</center>\n",
      "metadata": {}
    },
    {
      "cell_type": "markdown",
      "source": "Now, you can explore the map by zoom-in/out the marked areas\n, and try to answer the following questions:\n\n*   Are all launch sites in proximity to the Equator line?\n*   Are all launch sites in very close proximity to the coast?\n\nAlso please try to explain your findings.\n",
      "metadata": {}
    },
    {
      "cell_type": "code",
      "source": "# Task 2: Mark the success/failed launches for each site on the map",
      "metadata": {
        "trusted": true
      },
      "execution_count": 41,
      "outputs": []
    },
    {
      "cell_type": "markdown",
      "source": "Next, let's try to enhance the map by adding the launch outcomes for each site, and see which sites have high success rates.\nRecall that data frame spacex_df has detailed launch records, and the `class` column indicates if this launch was successful or not\n",
      "metadata": {}
    },
    {
      "cell_type": "code",
      "source": "spacex_df.head()",
      "metadata": {
        "trusted": true
      },
      "execution_count": 56,
      "outputs": [
        {
          "execution_count": 56,
          "output_type": "execute_result",
          "data": {
            "text/plain": "   Launch Site        Lat       Long  class\n0  CCAFS LC-40  28.562302 -80.577356      0\n1  CCAFS LC-40  28.562302 -80.577356      0\n2  CCAFS LC-40  28.562302 -80.577356      0\n3  CCAFS LC-40  28.562302 -80.577356      0\n4  CCAFS LC-40  28.562302 -80.577356      0",
            "text/html": "<div>\n<style scoped>\n    .dataframe tbody tr th:only-of-type {\n        vertical-align: middle;\n    }\n\n    .dataframe tbody tr th {\n        vertical-align: top;\n    }\n\n    .dataframe thead th {\n        text-align: right;\n    }\n</style>\n<table border=\"1\" class=\"dataframe\">\n  <thead>\n    <tr style=\"text-align: right;\">\n      <th></th>\n      <th>Launch Site</th>\n      <th>Lat</th>\n      <th>Long</th>\n      <th>class</th>\n    </tr>\n  </thead>\n  <tbody>\n    <tr>\n      <th>0</th>\n      <td>CCAFS LC-40</td>\n      <td>28.562302</td>\n      <td>-80.577356</td>\n      <td>0</td>\n    </tr>\n    <tr>\n      <th>1</th>\n      <td>CCAFS LC-40</td>\n      <td>28.562302</td>\n      <td>-80.577356</td>\n      <td>0</td>\n    </tr>\n    <tr>\n      <th>2</th>\n      <td>CCAFS LC-40</td>\n      <td>28.562302</td>\n      <td>-80.577356</td>\n      <td>0</td>\n    </tr>\n    <tr>\n      <th>3</th>\n      <td>CCAFS LC-40</td>\n      <td>28.562302</td>\n      <td>-80.577356</td>\n      <td>0</td>\n    </tr>\n    <tr>\n      <th>4</th>\n      <td>CCAFS LC-40</td>\n      <td>28.562302</td>\n      <td>-80.577356</td>\n      <td>0</td>\n    </tr>\n  </tbody>\n</table>\n</div>"
          },
          "metadata": {}
        }
      ]
    },
    {
      "cell_type": "markdown",
      "source": "Next, let's create markers for all launch records.\nIf a launch was successful `(class=1)`, then we use a green marker and if a launch was failed, we use a red marker `(class=0)`\n",
      "metadata": {}
    },
    {
      "cell_type": "markdown",
      "source": "Note that a launch only happens in one of the four launch sites, which means many launch records will have the exact same coordinate. Marker clusters can be a good way to simplify a map containing many markers having the same coordinate.\n",
      "metadata": {}
    },
    {
      "cell_type": "markdown",
      "source": "Let's first create a `MarkerCluster` object\n",
      "metadata": {}
    },
    {
      "cell_type": "code",
      "source": "marker_cluster = MarkerCluster()",
      "metadata": {
        "trusted": true
      },
      "execution_count": 43,
      "outputs": []
    },
    {
      "cell_type": "markdown",
      "source": "*TODO:* Create a new column in `launch_sites` dataframe called `marker_color` to store the marker colors based on the `class` value\n",
      "metadata": {}
    },
    {
      "cell_type": "code",
      "source": "# Apply a function to check the value of `class` column\n# If class=1, marker_color value will be green\n# If class=0, marker_color value will be red\ndef assign_marker_color(launch_outcome):\n    if launch_outcome == 1:\n        return 'green'\n    else:\n        return 'red'\n    \nspacex_df['marker_color'] = spacex_df['class'].apply(assign_marker_color)\nspacex_df.tail(10)",
      "metadata": {
        "trusted": true
      },
      "execution_count": 63,
      "outputs": [
        {
          "execution_count": 63,
          "output_type": "execute_result",
          "data": {
            "text/plain": "     Launch Site        Lat       Long  class marker_color\n46    KSC LC-39A  28.573255 -80.646895      1        green\n47    KSC LC-39A  28.573255 -80.646895      1        green\n48    KSC LC-39A  28.573255 -80.646895      1        green\n49  CCAFS SLC-40  28.563197 -80.576820      1        green\n50  CCAFS SLC-40  28.563197 -80.576820      1        green\n51  CCAFS SLC-40  28.563197 -80.576820      0          red\n52  CCAFS SLC-40  28.563197 -80.576820      0          red\n53  CCAFS SLC-40  28.563197 -80.576820      0          red\n54  CCAFS SLC-40  28.563197 -80.576820      1        green\n55  CCAFS SLC-40  28.563197 -80.576820      0          red",
            "text/html": "<div>\n<style scoped>\n    .dataframe tbody tr th:only-of-type {\n        vertical-align: middle;\n    }\n\n    .dataframe tbody tr th {\n        vertical-align: top;\n    }\n\n    .dataframe thead th {\n        text-align: right;\n    }\n</style>\n<table border=\"1\" class=\"dataframe\">\n  <thead>\n    <tr style=\"text-align: right;\">\n      <th></th>\n      <th>Launch Site</th>\n      <th>Lat</th>\n      <th>Long</th>\n      <th>class</th>\n      <th>marker_color</th>\n    </tr>\n  </thead>\n  <tbody>\n    <tr>\n      <th>46</th>\n      <td>KSC LC-39A</td>\n      <td>28.573255</td>\n      <td>-80.646895</td>\n      <td>1</td>\n      <td>green</td>\n    </tr>\n    <tr>\n      <th>47</th>\n      <td>KSC LC-39A</td>\n      <td>28.573255</td>\n      <td>-80.646895</td>\n      <td>1</td>\n      <td>green</td>\n    </tr>\n    <tr>\n      <th>48</th>\n      <td>KSC LC-39A</td>\n      <td>28.573255</td>\n      <td>-80.646895</td>\n      <td>1</td>\n      <td>green</td>\n    </tr>\n    <tr>\n      <th>49</th>\n      <td>CCAFS SLC-40</td>\n      <td>28.563197</td>\n      <td>-80.576820</td>\n      <td>1</td>\n      <td>green</td>\n    </tr>\n    <tr>\n      <th>50</th>\n      <td>CCAFS SLC-40</td>\n      <td>28.563197</td>\n      <td>-80.576820</td>\n      <td>1</td>\n      <td>green</td>\n    </tr>\n    <tr>\n      <th>51</th>\n      <td>CCAFS SLC-40</td>\n      <td>28.563197</td>\n      <td>-80.576820</td>\n      <td>0</td>\n      <td>red</td>\n    </tr>\n    <tr>\n      <th>52</th>\n      <td>CCAFS SLC-40</td>\n      <td>28.563197</td>\n      <td>-80.576820</td>\n      <td>0</td>\n      <td>red</td>\n    </tr>\n    <tr>\n      <th>53</th>\n      <td>CCAFS SLC-40</td>\n      <td>28.563197</td>\n      <td>-80.576820</td>\n      <td>0</td>\n      <td>red</td>\n    </tr>\n    <tr>\n      <th>54</th>\n      <td>CCAFS SLC-40</td>\n      <td>28.563197</td>\n      <td>-80.576820</td>\n      <td>1</td>\n      <td>green</td>\n    </tr>\n    <tr>\n      <th>55</th>\n      <td>CCAFS SLC-40</td>\n      <td>28.563197</td>\n      <td>-80.576820</td>\n      <td>0</td>\n      <td>red</td>\n    </tr>\n  </tbody>\n</table>\n</div>"
          },
          "metadata": {}
        }
      ]
    },
    {
      "cell_type": "markdown",
      "source": "*TODO:* For each launch result in `spacex_df` data frame, add a `folium.Marker` to `marker_cluster`\n",
      "metadata": {}
    },
    {
      "cell_type": "code",
      "source": "# Add marker_cluster to current site_map\nsite_map.add_child(marker_cluster)\n\n\nsite_map = folium.Map(location=nasa_coordinate, zoom_start=5)\n\n# For each launch site, add a Circle object based on its coordinate (Lat, Long) values. In addition, add Launch site name as a popup label\nfor _, record in spacex_df.iterrows():\n    coord = [record['Lat'], record['Long']]\n    marker = folium.map.Marker(\n        location=coord, icon=folium.Icon(color=record['marker_color'], icon_color=record['marker_color'],\n        popup=record['class']))\n    site_map.add_child(marker)\n    \nsite_map",
      "metadata": {
        "trusted": true
      },
      "execution_count": 103,
      "outputs": [
        {
          "execution_count": 103,
          "output_type": "execute_result",
          "data": {
            "text/plain": "<folium.folium.Map at 0x4f56aa0>",
            "text/html": "<div style=\"width:100%;\"><div style=\"position:relative;width:100%;height:0;padding-bottom:60%;\"><span style=\"color:#565656\">Make this Notebook Trusted to load map: File -> Trust Notebook</span><iframe srcdoc=\"&lt;!DOCTYPE html&gt;\n&lt;html&gt;\n&lt;head&gt;\n    \n    &lt;meta http-equiv=&quot;content-type&quot; content=&quot;text/html; charset=UTF-8&quot; /&gt;\n    \n        &lt;script&gt;\n            L_NO_TOUCH = false;\n            L_DISABLE_3D = false;\n        &lt;/script&gt;\n    \n    &lt;style&gt;html, body {width: 100%;height: 100%;margin: 0;padding: 0;}&lt;/style&gt;\n    &lt;style&gt;#map {position:absolute;top:0;bottom:0;right:0;left:0;}&lt;/style&gt;\n    &lt;script src=&quot;https://cdn.jsdelivr.net/npm/leaflet@1.9.3/dist/leaflet.js&quot;&gt;&lt;/script&gt;\n    &lt;script src=&quot;https://code.jquery.com/jquery-1.12.4.min.js&quot;&gt;&lt;/script&gt;\n    &lt;script src=&quot;https://cdn.jsdelivr.net/npm/bootstrap@5.2.2/dist/js/bootstrap.bundle.min.js&quot;&gt;&lt;/script&gt;\n    &lt;script src=&quot;https://cdnjs.cloudflare.com/ajax/libs/Leaflet.awesome-markers/2.0.2/leaflet.awesome-markers.js&quot;&gt;&lt;/script&gt;\n    &lt;link rel=&quot;stylesheet&quot; href=&quot;https://cdn.jsdelivr.net/npm/leaflet@1.9.3/dist/leaflet.css&quot;/&gt;\n    &lt;link rel=&quot;stylesheet&quot; href=&quot;https://cdn.jsdelivr.net/npm/bootstrap@5.2.2/dist/css/bootstrap.min.css&quot;/&gt;\n    &lt;link rel=&quot;stylesheet&quot; href=&quot;https://netdna.bootstrapcdn.com/bootstrap/3.0.0/css/bootstrap.min.css&quot;/&gt;\n    &lt;link rel=&quot;stylesheet&quot; href=&quot;https://cdn.jsdelivr.net/npm/@fortawesome/fontawesome-free@6.2.0/css/all.min.css&quot;/&gt;\n    &lt;link rel=&quot;stylesheet&quot; href=&quot;https://cdnjs.cloudflare.com/ajax/libs/Leaflet.awesome-markers/2.0.2/leaflet.awesome-markers.css&quot;/&gt;\n    &lt;link rel=&quot;stylesheet&quot; href=&quot;https://cdn.jsdelivr.net/gh/python-visualization/folium/folium/templates/leaflet.awesome.rotate.min.css&quot;/&gt;\n    \n            &lt;meta name=&quot;viewport&quot; content=&quot;width=device-width,\n                initial-scale=1.0, maximum-scale=1.0, user-scalable=no&quot; /&gt;\n            &lt;style&gt;\n                #map_d05fa9a13a3f42c68ce060caf15488f3 {\n                    position: relative;\n                    width: 100.0%;\n                    height: 100.0%;\n                    left: 0.0%;\n                    top: 0.0%;\n                }\n                .leaflet-container { font-size: 1rem; }\n            &lt;/style&gt;\n        \n&lt;/head&gt;\n&lt;body&gt;\n    \n    \n            &lt;div class=&quot;folium-map&quot; id=&quot;map_d05fa9a13a3f42c68ce060caf15488f3&quot; &gt;&lt;/div&gt;\n        \n&lt;/body&gt;\n&lt;script&gt;\n    \n    \n            var map_d05fa9a13a3f42c68ce060caf15488f3 = L.map(\n                &quot;map_d05fa9a13a3f42c68ce060caf15488f3&quot;,\n                {\n                    center: [29.559684888503615, -95.0830971930759],\n                    crs: L.CRS.EPSG3857,\n                    zoom: 5,\n                    zoomControl: true,\n                    preferCanvas: false,\n                }\n            );\n\n            \n\n        \n    \n            var tile_layer_7aad8f5ac847b673d1f7c8cf513348bf = L.tileLayer(\n                &quot;https://{s}.tile.openstreetmap.org/{z}/{x}/{y}.png&quot;,\n                {&quot;attribution&quot;: &quot;Data by \\u0026copy; \\u003ca target=\\&quot;_blank\\&quot; href=\\&quot;http://openstreetmap.org\\&quot;\\u003eOpenStreetMap\\u003c/a\\u003e, under \\u003ca target=\\&quot;_blank\\&quot; href=\\&quot;http://www.openstreetmap.org/copyright\\&quot;\\u003eODbL\\u003c/a\\u003e.&quot;, &quot;detectRetina&quot;: false, &quot;maxNativeZoom&quot;: 18, &quot;maxZoom&quot;: 18, &quot;minZoom&quot;: 0, &quot;noWrap&quot;: false, &quot;opacity&quot;: 1, &quot;subdomains&quot;: &quot;abc&quot;, &quot;tms&quot;: false}\n            ).addTo(map_d05fa9a13a3f42c68ce060caf15488f3);\n        \n    \n            var marker_cf3efd1c836c9165bd1e3c626599924f = L.marker(\n                [28.56230197, -80.57735648],\n                {}\n            ).addTo(map_d05fa9a13a3f42c68ce060caf15488f3);\n        \n    \n            var icon_4226a03c0f2a023750cd256a9abaa390 = L.AwesomeMarkers.icon(\n                {&quot;extraClasses&quot;: &quot;fa-rotate-0&quot;, &quot;icon&quot;: &quot;info-sign&quot;, &quot;iconColor&quot;: &quot;red&quot;, &quot;markerColor&quot;: &quot;red&quot;, &quot;popup&quot;: 0, &quot;prefix&quot;: &quot;glyphicon&quot;}\n            );\n            marker_cf3efd1c836c9165bd1e3c626599924f.setIcon(icon_4226a03c0f2a023750cd256a9abaa390);\n        \n    \n            var marker_9e759b789095494334913d4541838bb1 = L.marker(\n                [28.56230197, -80.57735648],\n                {}\n            ).addTo(map_d05fa9a13a3f42c68ce060caf15488f3);\n        \n    \n            var icon_a1f76cb3d06b65f4bf84922fad6da240 = L.AwesomeMarkers.icon(\n                {&quot;extraClasses&quot;: &quot;fa-rotate-0&quot;, &quot;icon&quot;: &quot;info-sign&quot;, &quot;iconColor&quot;: &quot;red&quot;, &quot;markerColor&quot;: &quot;red&quot;, &quot;popup&quot;: 0, &quot;prefix&quot;: &quot;glyphicon&quot;}\n            );\n            marker_9e759b789095494334913d4541838bb1.setIcon(icon_a1f76cb3d06b65f4bf84922fad6da240);\n        \n    \n            var marker_25f01ea8d057a17c5e64c2f63a081ad4 = L.marker(\n                [28.56230197, -80.57735648],\n                {}\n            ).addTo(map_d05fa9a13a3f42c68ce060caf15488f3);\n        \n    \n            var icon_38de762514fe3bbae1b318128849b02b = L.AwesomeMarkers.icon(\n                {&quot;extraClasses&quot;: &quot;fa-rotate-0&quot;, &quot;icon&quot;: &quot;info-sign&quot;, &quot;iconColor&quot;: &quot;red&quot;, &quot;markerColor&quot;: &quot;red&quot;, &quot;popup&quot;: 0, &quot;prefix&quot;: &quot;glyphicon&quot;}\n            );\n            marker_25f01ea8d057a17c5e64c2f63a081ad4.setIcon(icon_38de762514fe3bbae1b318128849b02b);\n        \n    \n            var marker_451e7cd27dc9d42e8c2b705713d84dd0 = L.marker(\n                [28.56230197, -80.57735648],\n                {}\n            ).addTo(map_d05fa9a13a3f42c68ce060caf15488f3);\n        \n    \n            var icon_d3bdcf0070d71aca74231951cff49f71 = L.AwesomeMarkers.icon(\n                {&quot;extraClasses&quot;: &quot;fa-rotate-0&quot;, &quot;icon&quot;: &quot;info-sign&quot;, &quot;iconColor&quot;: &quot;red&quot;, &quot;markerColor&quot;: &quot;red&quot;, &quot;popup&quot;: 0, &quot;prefix&quot;: &quot;glyphicon&quot;}\n            );\n            marker_451e7cd27dc9d42e8c2b705713d84dd0.setIcon(icon_d3bdcf0070d71aca74231951cff49f71);\n        \n    \n            var marker_66aad96993d414cca44e6ad5faef59e1 = L.marker(\n                [28.56230197, -80.57735648],\n                {}\n            ).addTo(map_d05fa9a13a3f42c68ce060caf15488f3);\n        \n    \n            var icon_73b78677f4af476489ba348d4b247257 = L.AwesomeMarkers.icon(\n                {&quot;extraClasses&quot;: &quot;fa-rotate-0&quot;, &quot;icon&quot;: &quot;info-sign&quot;, &quot;iconColor&quot;: &quot;red&quot;, &quot;markerColor&quot;: &quot;red&quot;, &quot;popup&quot;: 0, &quot;prefix&quot;: &quot;glyphicon&quot;}\n            );\n            marker_66aad96993d414cca44e6ad5faef59e1.setIcon(icon_73b78677f4af476489ba348d4b247257);\n        \n    \n            var marker_b6be67353dbc7142f4bc48a26991687c = L.marker(\n                [28.56230197, -80.57735648],\n                {}\n            ).addTo(map_d05fa9a13a3f42c68ce060caf15488f3);\n        \n    \n            var icon_23cd3010b8128722ca318001511e2cd9 = L.AwesomeMarkers.icon(\n                {&quot;extraClasses&quot;: &quot;fa-rotate-0&quot;, &quot;icon&quot;: &quot;info-sign&quot;, &quot;iconColor&quot;: &quot;red&quot;, &quot;markerColor&quot;: &quot;red&quot;, &quot;popup&quot;: 0, &quot;prefix&quot;: &quot;glyphicon&quot;}\n            );\n            marker_b6be67353dbc7142f4bc48a26991687c.setIcon(icon_23cd3010b8128722ca318001511e2cd9);\n        \n    \n            var marker_b1a0075fdc7e9d83d3a2193a7c13801a = L.marker(\n                [28.56230197, -80.57735648],\n                {}\n            ).addTo(map_d05fa9a13a3f42c68ce060caf15488f3);\n        \n    \n            var icon_e956b65b0e59aab9d87be2f6b81e3bbf = L.AwesomeMarkers.icon(\n                {&quot;extraClasses&quot;: &quot;fa-rotate-0&quot;, &quot;icon&quot;: &quot;info-sign&quot;, &quot;iconColor&quot;: &quot;red&quot;, &quot;markerColor&quot;: &quot;red&quot;, &quot;popup&quot;: 0, &quot;prefix&quot;: &quot;glyphicon&quot;}\n            );\n            marker_b1a0075fdc7e9d83d3a2193a7c13801a.setIcon(icon_e956b65b0e59aab9d87be2f6b81e3bbf);\n        \n    \n            var marker_5cd540349113407ea8450ca5470226af = L.marker(\n                [28.56230197, -80.57735648],\n                {}\n            ).addTo(map_d05fa9a13a3f42c68ce060caf15488f3);\n        \n    \n            var icon_76182f0c0109f0bc6faf4ca4c1536999 = L.AwesomeMarkers.icon(\n                {&quot;extraClasses&quot;: &quot;fa-rotate-0&quot;, &quot;icon&quot;: &quot;info-sign&quot;, &quot;iconColor&quot;: &quot;red&quot;, &quot;markerColor&quot;: &quot;red&quot;, &quot;popup&quot;: 0, &quot;prefix&quot;: &quot;glyphicon&quot;}\n            );\n            marker_5cd540349113407ea8450ca5470226af.setIcon(icon_76182f0c0109f0bc6faf4ca4c1536999);\n        \n    \n            var marker_2046d3b00da7b3baf2f1f26b9ec793b9 = L.marker(\n                [28.56230197, -80.57735648],\n                {}\n            ).addTo(map_d05fa9a13a3f42c68ce060caf15488f3);\n        \n    \n            var icon_19a6ae1c053410b936d8aabf5a23e968 = L.AwesomeMarkers.icon(\n                {&quot;extraClasses&quot;: &quot;fa-rotate-0&quot;, &quot;icon&quot;: &quot;info-sign&quot;, &quot;iconColor&quot;: &quot;red&quot;, &quot;markerColor&quot;: &quot;red&quot;, &quot;popup&quot;: 0, &quot;prefix&quot;: &quot;glyphicon&quot;}\n            );\n            marker_2046d3b00da7b3baf2f1f26b9ec793b9.setIcon(icon_19a6ae1c053410b936d8aabf5a23e968);\n        \n    \n            var marker_32f46dcacc5f543169825e2dbaa35e09 = L.marker(\n                [28.56230197, -80.57735648],\n                {}\n            ).addTo(map_d05fa9a13a3f42c68ce060caf15488f3);\n        \n    \n            var icon_983636abb0c52d60ef1146c987d06b2a = L.AwesomeMarkers.icon(\n                {&quot;extraClasses&quot;: &quot;fa-rotate-0&quot;, &quot;icon&quot;: &quot;info-sign&quot;, &quot;iconColor&quot;: &quot;red&quot;, &quot;markerColor&quot;: &quot;red&quot;, &quot;popup&quot;: 0, &quot;prefix&quot;: &quot;glyphicon&quot;}\n            );\n            marker_32f46dcacc5f543169825e2dbaa35e09.setIcon(icon_983636abb0c52d60ef1146c987d06b2a);\n        \n    \n            var marker_9f2dbeb84f8119f64d7e7244e8e21bd5 = L.marker(\n                [28.56230197, -80.57735648],\n                {}\n            ).addTo(map_d05fa9a13a3f42c68ce060caf15488f3);\n        \n    \n            var icon_2236f314046df0c802c11d117d79e3de = L.AwesomeMarkers.icon(\n                {&quot;extraClasses&quot;: &quot;fa-rotate-0&quot;, &quot;icon&quot;: &quot;info-sign&quot;, &quot;iconColor&quot;: &quot;red&quot;, &quot;markerColor&quot;: &quot;red&quot;, &quot;popup&quot;: 0, &quot;prefix&quot;: &quot;glyphicon&quot;}\n            );\n            marker_9f2dbeb84f8119f64d7e7244e8e21bd5.setIcon(icon_2236f314046df0c802c11d117d79e3de);\n        \n    \n            var marker_983855625283c83fe58f80bc9b72038d = L.marker(\n                [28.56230197, -80.57735648],\n                {}\n            ).addTo(map_d05fa9a13a3f42c68ce060caf15488f3);\n        \n    \n            var icon_74dd5c9d3d25e7dcaafef862079c375a = L.AwesomeMarkers.icon(\n                {&quot;extraClasses&quot;: &quot;fa-rotate-0&quot;, &quot;icon&quot;: &quot;info-sign&quot;, &quot;iconColor&quot;: &quot;red&quot;, &quot;markerColor&quot;: &quot;red&quot;, &quot;popup&quot;: 0, &quot;prefix&quot;: &quot;glyphicon&quot;}\n            );\n            marker_983855625283c83fe58f80bc9b72038d.setIcon(icon_74dd5c9d3d25e7dcaafef862079c375a);\n        \n    \n            var marker_2c938b0dc0662977e68348559ae23928 = L.marker(\n                [28.56230197, -80.57735648],\n                {}\n            ).addTo(map_d05fa9a13a3f42c68ce060caf15488f3);\n        \n    \n            var icon_963bef10c3ddda794369bc355ac78e2d = L.AwesomeMarkers.icon(\n                {&quot;extraClasses&quot;: &quot;fa-rotate-0&quot;, &quot;icon&quot;: &quot;info-sign&quot;, &quot;iconColor&quot;: &quot;red&quot;, &quot;markerColor&quot;: &quot;red&quot;, &quot;popup&quot;: 0, &quot;prefix&quot;: &quot;glyphicon&quot;}\n            );\n            marker_2c938b0dc0662977e68348559ae23928.setIcon(icon_963bef10c3ddda794369bc355ac78e2d);\n        \n    \n            var marker_d8881596e61ff158c62a5b1c1fab51bd = L.marker(\n                [28.56230197, -80.57735648],\n                {}\n            ).addTo(map_d05fa9a13a3f42c68ce060caf15488f3);\n        \n    \n            var icon_353358f5a0501946f735bb7cdef444ff = L.AwesomeMarkers.icon(\n                {&quot;extraClasses&quot;: &quot;fa-rotate-0&quot;, &quot;icon&quot;: &quot;info-sign&quot;, &quot;iconColor&quot;: &quot;red&quot;, &quot;markerColor&quot;: &quot;red&quot;, &quot;popup&quot;: 0, &quot;prefix&quot;: &quot;glyphicon&quot;}\n            );\n            marker_d8881596e61ff158c62a5b1c1fab51bd.setIcon(icon_353358f5a0501946f735bb7cdef444ff);\n        \n    \n            var marker_2863848af376b529a2dff09f49e07e96 = L.marker(\n                [28.56230197, -80.57735648],\n                {}\n            ).addTo(map_d05fa9a13a3f42c68ce060caf15488f3);\n        \n    \n            var icon_6b30d6280639118eb1b97a001a580b83 = L.AwesomeMarkers.icon(\n                {&quot;extraClasses&quot;: &quot;fa-rotate-0&quot;, &quot;icon&quot;: &quot;info-sign&quot;, &quot;iconColor&quot;: &quot;red&quot;, &quot;markerColor&quot;: &quot;red&quot;, &quot;popup&quot;: 0, &quot;prefix&quot;: &quot;glyphicon&quot;}\n            );\n            marker_2863848af376b529a2dff09f49e07e96.setIcon(icon_6b30d6280639118eb1b97a001a580b83);\n        \n    \n            var marker_8ae7cba49ab0ebe5f2ac01f17762e927 = L.marker(\n                [28.56230197, -80.57735648],\n                {}\n            ).addTo(map_d05fa9a13a3f42c68ce060caf15488f3);\n        \n    \n            var icon_34ec72a224b8bbf4fffd038e11e89e44 = L.AwesomeMarkers.icon(\n                {&quot;extraClasses&quot;: &quot;fa-rotate-0&quot;, &quot;icon&quot;: &quot;info-sign&quot;, &quot;iconColor&quot;: &quot;red&quot;, &quot;markerColor&quot;: &quot;red&quot;, &quot;popup&quot;: 0, &quot;prefix&quot;: &quot;glyphicon&quot;}\n            );\n            marker_8ae7cba49ab0ebe5f2ac01f17762e927.setIcon(icon_34ec72a224b8bbf4fffd038e11e89e44);\n        \n    \n            var marker_9c3dc112b293825db871b16b71114dba = L.marker(\n                [28.56230197, -80.57735648],\n                {}\n            ).addTo(map_d05fa9a13a3f42c68ce060caf15488f3);\n        \n    \n            var icon_d1105f026a59eb2430fc0bee88a4e27e = L.AwesomeMarkers.icon(\n                {&quot;extraClasses&quot;: &quot;fa-rotate-0&quot;, &quot;icon&quot;: &quot;info-sign&quot;, &quot;iconColor&quot;: &quot;red&quot;, &quot;markerColor&quot;: &quot;red&quot;, &quot;popup&quot;: 0, &quot;prefix&quot;: &quot;glyphicon&quot;}\n            );\n            marker_9c3dc112b293825db871b16b71114dba.setIcon(icon_d1105f026a59eb2430fc0bee88a4e27e);\n        \n    \n            var marker_d0671626f93720ff99183c7a5e43e65d = L.marker(\n                [28.56230197, -80.57735648],\n                {}\n            ).addTo(map_d05fa9a13a3f42c68ce060caf15488f3);\n        \n    \n            var icon_ab8204783e25b50a6cf0c23750b71be0 = L.AwesomeMarkers.icon(\n                {&quot;extraClasses&quot;: &quot;fa-rotate-0&quot;, &quot;icon&quot;: &quot;info-sign&quot;, &quot;iconColor&quot;: &quot;green&quot;, &quot;markerColor&quot;: &quot;green&quot;, &quot;popup&quot;: 1, &quot;prefix&quot;: &quot;glyphicon&quot;}\n            );\n            marker_d0671626f93720ff99183c7a5e43e65d.setIcon(icon_ab8204783e25b50a6cf0c23750b71be0);\n        \n    \n            var marker_16d73decb1eb56c199f18ae37e96d343 = L.marker(\n                [28.56230197, -80.57735648],\n                {}\n            ).addTo(map_d05fa9a13a3f42c68ce060caf15488f3);\n        \n    \n            var icon_35f6631acede23af8730b5affeac4d18 = L.AwesomeMarkers.icon(\n                {&quot;extraClasses&quot;: &quot;fa-rotate-0&quot;, &quot;icon&quot;: &quot;info-sign&quot;, &quot;iconColor&quot;: &quot;green&quot;, &quot;markerColor&quot;: &quot;green&quot;, &quot;popup&quot;: 1, &quot;prefix&quot;: &quot;glyphicon&quot;}\n            );\n            marker_16d73decb1eb56c199f18ae37e96d343.setIcon(icon_35f6631acede23af8730b5affeac4d18);\n        \n    \n            var marker_88bda2f330c2f8eb1f775f37ad9b54d9 = L.marker(\n                [28.56230197, -80.57735648],\n                {}\n            ).addTo(map_d05fa9a13a3f42c68ce060caf15488f3);\n        \n    \n            var icon_cb447f7bc5b3b34a643a847f0c6968cc = L.AwesomeMarkers.icon(\n                {&quot;extraClasses&quot;: &quot;fa-rotate-0&quot;, &quot;icon&quot;: &quot;info-sign&quot;, &quot;iconColor&quot;: &quot;red&quot;, &quot;markerColor&quot;: &quot;red&quot;, &quot;popup&quot;: 0, &quot;prefix&quot;: &quot;glyphicon&quot;}\n            );\n            marker_88bda2f330c2f8eb1f775f37ad9b54d9.setIcon(icon_cb447f7bc5b3b34a643a847f0c6968cc);\n        \n    \n            var marker_1a960d3b365512ae68ad77f3ad91342c = L.marker(\n                [28.56230197, -80.57735648],\n                {}\n            ).addTo(map_d05fa9a13a3f42c68ce060caf15488f3);\n        \n    \n            var icon_829c6176a8a8e37558d7efe2e49c0bb3 = L.AwesomeMarkers.icon(\n                {&quot;extraClasses&quot;: &quot;fa-rotate-0&quot;, &quot;icon&quot;: &quot;info-sign&quot;, &quot;iconColor&quot;: &quot;green&quot;, &quot;markerColor&quot;: &quot;green&quot;, &quot;popup&quot;: 1, &quot;prefix&quot;: &quot;glyphicon&quot;}\n            );\n            marker_1a960d3b365512ae68ad77f3ad91342c.setIcon(icon_829c6176a8a8e37558d7efe2e49c0bb3);\n        \n    \n            var marker_4d9d0b42db34fbfb4ff4ae41eae0e58c = L.marker(\n                [28.56230197, -80.57735648],\n                {}\n            ).addTo(map_d05fa9a13a3f42c68ce060caf15488f3);\n        \n    \n            var icon_524af0cbcdb95a05e0a40d493a993941 = L.AwesomeMarkers.icon(\n                {&quot;extraClasses&quot;: &quot;fa-rotate-0&quot;, &quot;icon&quot;: &quot;info-sign&quot;, &quot;iconColor&quot;: &quot;green&quot;, &quot;markerColor&quot;: &quot;green&quot;, &quot;popup&quot;: 1, &quot;prefix&quot;: &quot;glyphicon&quot;}\n            );\n            marker_4d9d0b42db34fbfb4ff4ae41eae0e58c.setIcon(icon_524af0cbcdb95a05e0a40d493a993941);\n        \n    \n            var marker_12f34d1d8a8290e52af2fc9f0a19df19 = L.marker(\n                [28.56230197, -80.57735648],\n                {}\n            ).addTo(map_d05fa9a13a3f42c68ce060caf15488f3);\n        \n    \n            var icon_fbaedb8b578b510959374ba8476d9123 = L.AwesomeMarkers.icon(\n                {&quot;extraClasses&quot;: &quot;fa-rotate-0&quot;, &quot;icon&quot;: &quot;info-sign&quot;, &quot;iconColor&quot;: &quot;green&quot;, &quot;markerColor&quot;: &quot;green&quot;, &quot;popup&quot;: 1, &quot;prefix&quot;: &quot;glyphicon&quot;}\n            );\n            marker_12f34d1d8a8290e52af2fc9f0a19df19.setIcon(icon_fbaedb8b578b510959374ba8476d9123);\n        \n    \n            var marker_88a74082cc3210cec51b3a375c465a17 = L.marker(\n                [28.56230197, -80.57735648],\n                {}\n            ).addTo(map_d05fa9a13a3f42c68ce060caf15488f3);\n        \n    \n            var icon_2c863ce2594241db542a58fce8574aa9 = L.AwesomeMarkers.icon(\n                {&quot;extraClasses&quot;: &quot;fa-rotate-0&quot;, &quot;icon&quot;: &quot;info-sign&quot;, &quot;iconColor&quot;: &quot;red&quot;, &quot;markerColor&quot;: &quot;red&quot;, &quot;popup&quot;: 0, &quot;prefix&quot;: &quot;glyphicon&quot;}\n            );\n            marker_88a74082cc3210cec51b3a375c465a17.setIcon(icon_2c863ce2594241db542a58fce8574aa9);\n        \n    \n            var marker_d300b155f755eb66189f0a49ec38ff71 = L.marker(\n                [28.56230197, -80.57735648],\n                {}\n            ).addTo(map_d05fa9a13a3f42c68ce060caf15488f3);\n        \n    \n            var icon_d8a42825f125ee9e2368ee1178b9e0d3 = L.AwesomeMarkers.icon(\n                {&quot;extraClasses&quot;: &quot;fa-rotate-0&quot;, &quot;icon&quot;: &quot;info-sign&quot;, &quot;iconColor&quot;: &quot;green&quot;, &quot;markerColor&quot;: &quot;green&quot;, &quot;popup&quot;: 1, &quot;prefix&quot;: &quot;glyphicon&quot;}\n            );\n            marker_d300b155f755eb66189f0a49ec38ff71.setIcon(icon_d8a42825f125ee9e2368ee1178b9e0d3);\n        \n    \n            var marker_d40b1897ba4374b7ad3c8d5922b0f682 = L.marker(\n                [28.56230197, -80.57735648],\n                {}\n            ).addTo(map_d05fa9a13a3f42c68ce060caf15488f3);\n        \n    \n            var icon_64d4886b947e6d4ac0aed84c3eaab6f4 = L.AwesomeMarkers.icon(\n                {&quot;extraClasses&quot;: &quot;fa-rotate-0&quot;, &quot;icon&quot;: &quot;info-sign&quot;, &quot;iconColor&quot;: &quot;green&quot;, &quot;markerColor&quot;: &quot;green&quot;, &quot;popup&quot;: 1, &quot;prefix&quot;: &quot;glyphicon&quot;}\n            );\n            marker_d40b1897ba4374b7ad3c8d5922b0f682.setIcon(icon_64d4886b947e6d4ac0aed84c3eaab6f4);\n        \n    \n            var marker_a2857100fedf8602fd440fdcf8e43ab9 = L.marker(\n                [34.63283416, -120.6107455],\n                {}\n            ).addTo(map_d05fa9a13a3f42c68ce060caf15488f3);\n        \n    \n            var icon_40775bfa26a69bf4cb94112ce1b3666b = L.AwesomeMarkers.icon(\n                {&quot;extraClasses&quot;: &quot;fa-rotate-0&quot;, &quot;icon&quot;: &quot;info-sign&quot;, &quot;iconColor&quot;: &quot;red&quot;, &quot;markerColor&quot;: &quot;red&quot;, &quot;popup&quot;: 0, &quot;prefix&quot;: &quot;glyphicon&quot;}\n            );\n            marker_a2857100fedf8602fd440fdcf8e43ab9.setIcon(icon_40775bfa26a69bf4cb94112ce1b3666b);\n        \n    \n            var marker_3b58dcdae7b5cd8f4b281a7c75af90b6 = L.marker(\n                [34.63283416, -120.6107455],\n                {}\n            ).addTo(map_d05fa9a13a3f42c68ce060caf15488f3);\n        \n    \n            var icon_6e1b4f6feea2596511f35564e465f6bd = L.AwesomeMarkers.icon(\n                {&quot;extraClasses&quot;: &quot;fa-rotate-0&quot;, &quot;icon&quot;: &quot;info-sign&quot;, &quot;iconColor&quot;: &quot;red&quot;, &quot;markerColor&quot;: &quot;red&quot;, &quot;popup&quot;: 0, &quot;prefix&quot;: &quot;glyphicon&quot;}\n            );\n            marker_3b58dcdae7b5cd8f4b281a7c75af90b6.setIcon(icon_6e1b4f6feea2596511f35564e465f6bd);\n        \n    \n            var marker_9d816715267fe142787e239170f71638 = L.marker(\n                [34.63283416, -120.6107455],\n                {}\n            ).addTo(map_d05fa9a13a3f42c68ce060caf15488f3);\n        \n    \n            var icon_e57709cc3d54855d6788c12269f85bb8 = L.AwesomeMarkers.icon(\n                {&quot;extraClasses&quot;: &quot;fa-rotate-0&quot;, &quot;icon&quot;: &quot;info-sign&quot;, &quot;iconColor&quot;: &quot;green&quot;, &quot;markerColor&quot;: &quot;green&quot;, &quot;popup&quot;: 1, &quot;prefix&quot;: &quot;glyphicon&quot;}\n            );\n            marker_9d816715267fe142787e239170f71638.setIcon(icon_e57709cc3d54855d6788c12269f85bb8);\n        \n    \n            var marker_6bc60614413332155d8fc1697923e30f = L.marker(\n                [34.63283416, -120.6107455],\n                {}\n            ).addTo(map_d05fa9a13a3f42c68ce060caf15488f3);\n        \n    \n            var icon_4a489afe3163c87ef5c2510a30f44d76 = L.AwesomeMarkers.icon(\n                {&quot;extraClasses&quot;: &quot;fa-rotate-0&quot;, &quot;icon&quot;: &quot;info-sign&quot;, &quot;iconColor&quot;: &quot;green&quot;, &quot;markerColor&quot;: &quot;green&quot;, &quot;popup&quot;: 1, &quot;prefix&quot;: &quot;glyphicon&quot;}\n            );\n            marker_6bc60614413332155d8fc1697923e30f.setIcon(icon_4a489afe3163c87ef5c2510a30f44d76);\n        \n    \n            var marker_c8244e837894d3abf722f7490bc901e6 = L.marker(\n                [34.63283416, -120.6107455],\n                {}\n            ).addTo(map_d05fa9a13a3f42c68ce060caf15488f3);\n        \n    \n            var icon_28450aeff7ee03dbd6d4a1e10f8eeeb7 = L.AwesomeMarkers.icon(\n                {&quot;extraClasses&quot;: &quot;fa-rotate-0&quot;, &quot;icon&quot;: &quot;info-sign&quot;, &quot;iconColor&quot;: &quot;green&quot;, &quot;markerColor&quot;: &quot;green&quot;, &quot;popup&quot;: 1, &quot;prefix&quot;: &quot;glyphicon&quot;}\n            );\n            marker_c8244e837894d3abf722f7490bc901e6.setIcon(icon_28450aeff7ee03dbd6d4a1e10f8eeeb7);\n        \n    \n            var marker_f6e3305d9e22a70aa400c201b2c61e47 = L.marker(\n                [34.63283416, -120.6107455],\n                {}\n            ).addTo(map_d05fa9a13a3f42c68ce060caf15488f3);\n        \n    \n            var icon_e05dc7a17dde2a7e93536658a4e7332f = L.AwesomeMarkers.icon(\n                {&quot;extraClasses&quot;: &quot;fa-rotate-0&quot;, &quot;icon&quot;: &quot;info-sign&quot;, &quot;iconColor&quot;: &quot;green&quot;, &quot;markerColor&quot;: &quot;green&quot;, &quot;popup&quot;: 1, &quot;prefix&quot;: &quot;glyphicon&quot;}\n            );\n            marker_f6e3305d9e22a70aa400c201b2c61e47.setIcon(icon_e05dc7a17dde2a7e93536658a4e7332f);\n        \n    \n            var marker_c698b8eb5d8063bf42be7194d4ec08ec = L.marker(\n                [34.63283416, -120.6107455],\n                {}\n            ).addTo(map_d05fa9a13a3f42c68ce060caf15488f3);\n        \n    \n            var icon_fb22c3335b68ff1619bb24078c656394 = L.AwesomeMarkers.icon(\n                {&quot;extraClasses&quot;: &quot;fa-rotate-0&quot;, &quot;icon&quot;: &quot;info-sign&quot;, &quot;iconColor&quot;: &quot;red&quot;, &quot;markerColor&quot;: &quot;red&quot;, &quot;popup&quot;: 0, &quot;prefix&quot;: &quot;glyphicon&quot;}\n            );\n            marker_c698b8eb5d8063bf42be7194d4ec08ec.setIcon(icon_fb22c3335b68ff1619bb24078c656394);\n        \n    \n            var marker_a91ec3dd7a9b39b1fc1505009bfe1ec4 = L.marker(\n                [34.63283416, -120.6107455],\n                {}\n            ).addTo(map_d05fa9a13a3f42c68ce060caf15488f3);\n        \n    \n            var icon_39183012d9de6c490d5c2104eaaf6948 = L.AwesomeMarkers.icon(\n                {&quot;extraClasses&quot;: &quot;fa-rotate-0&quot;, &quot;icon&quot;: &quot;info-sign&quot;, &quot;iconColor&quot;: &quot;red&quot;, &quot;markerColor&quot;: &quot;red&quot;, &quot;popup&quot;: 0, &quot;prefix&quot;: &quot;glyphicon&quot;}\n            );\n            marker_a91ec3dd7a9b39b1fc1505009bfe1ec4.setIcon(icon_39183012d9de6c490d5c2104eaaf6948);\n        \n    \n            var marker_c44f93ea8b7e12d27175dfd0cc67af57 = L.marker(\n                [34.63283416, -120.6107455],\n                {}\n            ).addTo(map_d05fa9a13a3f42c68ce060caf15488f3);\n        \n    \n            var icon_eefb7a6e1598c01ebe41e7daa289ade4 = L.AwesomeMarkers.icon(\n                {&quot;extraClasses&quot;: &quot;fa-rotate-0&quot;, &quot;icon&quot;: &quot;info-sign&quot;, &quot;iconColor&quot;: &quot;red&quot;, &quot;markerColor&quot;: &quot;red&quot;, &quot;popup&quot;: 0, &quot;prefix&quot;: &quot;glyphicon&quot;}\n            );\n            marker_c44f93ea8b7e12d27175dfd0cc67af57.setIcon(icon_eefb7a6e1598c01ebe41e7daa289ade4);\n        \n    \n            var marker_9d69aaec637ae0734b41652b4e033df9 = L.marker(\n                [34.63283416, -120.6107455],\n                {}\n            ).addTo(map_d05fa9a13a3f42c68ce060caf15488f3);\n        \n    \n            var icon_a3e878ba3c33af0177526f0e3cee424d = L.AwesomeMarkers.icon(\n                {&quot;extraClasses&quot;: &quot;fa-rotate-0&quot;, &quot;icon&quot;: &quot;info-sign&quot;, &quot;iconColor&quot;: &quot;red&quot;, &quot;markerColor&quot;: &quot;red&quot;, &quot;popup&quot;: 0, &quot;prefix&quot;: &quot;glyphicon&quot;}\n            );\n            marker_9d69aaec637ae0734b41652b4e033df9.setIcon(icon_a3e878ba3c33af0177526f0e3cee424d);\n        \n    \n            var marker_3b0d28a0b6bc00850d5517b81dac753c = L.marker(\n                [28.57325457, -80.64689529],\n                {}\n            ).addTo(map_d05fa9a13a3f42c68ce060caf15488f3);\n        \n    \n            var icon_ec474dff2ba8cd951522dcbda557bdfb = L.AwesomeMarkers.icon(\n                {&quot;extraClasses&quot;: &quot;fa-rotate-0&quot;, &quot;icon&quot;: &quot;info-sign&quot;, &quot;iconColor&quot;: &quot;green&quot;, &quot;markerColor&quot;: &quot;green&quot;, &quot;popup&quot;: 1, &quot;prefix&quot;: &quot;glyphicon&quot;}\n            );\n            marker_3b0d28a0b6bc00850d5517b81dac753c.setIcon(icon_ec474dff2ba8cd951522dcbda557bdfb);\n        \n    \n            var marker_0006e877e12a45c6a4f0970f5b5ecd4a = L.marker(\n                [28.57325457, -80.64689529],\n                {}\n            ).addTo(map_d05fa9a13a3f42c68ce060caf15488f3);\n        \n    \n            var icon_13093c197a5edbedc91234ce96d49d45 = L.AwesomeMarkers.icon(\n                {&quot;extraClasses&quot;: &quot;fa-rotate-0&quot;, &quot;icon&quot;: &quot;info-sign&quot;, &quot;iconColor&quot;: &quot;red&quot;, &quot;markerColor&quot;: &quot;red&quot;, &quot;popup&quot;: 0, &quot;prefix&quot;: &quot;glyphicon&quot;}\n            );\n            marker_0006e877e12a45c6a4f0970f5b5ecd4a.setIcon(icon_13093c197a5edbedc91234ce96d49d45);\n        \n    \n            var marker_44e4295d0ab8fff2c627bcf13796fa88 = L.marker(\n                [28.57325457, -80.64689529],\n                {}\n            ).addTo(map_d05fa9a13a3f42c68ce060caf15488f3);\n        \n    \n            var icon_a70d9291399d1d079a9ef170c21078c0 = L.AwesomeMarkers.icon(\n                {&quot;extraClasses&quot;: &quot;fa-rotate-0&quot;, &quot;icon&quot;: &quot;info-sign&quot;, &quot;iconColor&quot;: &quot;green&quot;, &quot;markerColor&quot;: &quot;green&quot;, &quot;popup&quot;: 1, &quot;prefix&quot;: &quot;glyphicon&quot;}\n            );\n            marker_44e4295d0ab8fff2c627bcf13796fa88.setIcon(icon_a70d9291399d1d079a9ef170c21078c0);\n        \n    \n            var marker_7c2adc63b612f306b9a920e86290661a = L.marker(\n                [28.57325457, -80.64689529],\n                {}\n            ).addTo(map_d05fa9a13a3f42c68ce060caf15488f3);\n        \n    \n            var icon_dfeca24aac1b2c46980cd0d5b54d96e8 = L.AwesomeMarkers.icon(\n                {&quot;extraClasses&quot;: &quot;fa-rotate-0&quot;, &quot;icon&quot;: &quot;info-sign&quot;, &quot;iconColor&quot;: &quot;green&quot;, &quot;markerColor&quot;: &quot;green&quot;, &quot;popup&quot;: 1, &quot;prefix&quot;: &quot;glyphicon&quot;}\n            );\n            marker_7c2adc63b612f306b9a920e86290661a.setIcon(icon_dfeca24aac1b2c46980cd0d5b54d96e8);\n        \n    \n            var marker_3d112504a9722820cd6ea9dd400b6eea = L.marker(\n                [28.57325457, -80.64689529],\n                {}\n            ).addTo(map_d05fa9a13a3f42c68ce060caf15488f3);\n        \n    \n            var icon_50ef3e896e32264e58fb053ec64e354b = L.AwesomeMarkers.icon(\n                {&quot;extraClasses&quot;: &quot;fa-rotate-0&quot;, &quot;icon&quot;: &quot;info-sign&quot;, &quot;iconColor&quot;: &quot;red&quot;, &quot;markerColor&quot;: &quot;red&quot;, &quot;popup&quot;: 0, &quot;prefix&quot;: &quot;glyphicon&quot;}\n            );\n            marker_3d112504a9722820cd6ea9dd400b6eea.setIcon(icon_50ef3e896e32264e58fb053ec64e354b);\n        \n    \n            var marker_6711b1c3ee1bfa924d3a3ad158082c5b = L.marker(\n                [28.57325457, -80.64689529],\n                {}\n            ).addTo(map_d05fa9a13a3f42c68ce060caf15488f3);\n        \n    \n            var icon_d507e567289e3ae76fdb70b84f453a5a = L.AwesomeMarkers.icon(\n                {&quot;extraClasses&quot;: &quot;fa-rotate-0&quot;, &quot;icon&quot;: &quot;info-sign&quot;, &quot;iconColor&quot;: &quot;green&quot;, &quot;markerColor&quot;: &quot;green&quot;, &quot;popup&quot;: 1, &quot;prefix&quot;: &quot;glyphicon&quot;}\n            );\n            marker_6711b1c3ee1bfa924d3a3ad158082c5b.setIcon(icon_d507e567289e3ae76fdb70b84f453a5a);\n        \n    \n            var marker_8fe9e73aa2b96ba65b2ddd33e03760d0 = L.marker(\n                [28.57325457, -80.64689529],\n                {}\n            ).addTo(map_d05fa9a13a3f42c68ce060caf15488f3);\n        \n    \n            var icon_165521d3764b03734a648e1ee91fbae7 = L.AwesomeMarkers.icon(\n                {&quot;extraClasses&quot;: &quot;fa-rotate-0&quot;, &quot;icon&quot;: &quot;info-sign&quot;, &quot;iconColor&quot;: &quot;green&quot;, &quot;markerColor&quot;: &quot;green&quot;, &quot;popup&quot;: 1, &quot;prefix&quot;: &quot;glyphicon&quot;}\n            );\n            marker_8fe9e73aa2b96ba65b2ddd33e03760d0.setIcon(icon_165521d3764b03734a648e1ee91fbae7);\n        \n    \n            var marker_89886ea76c3b609d7a10287f2f635ebd = L.marker(\n                [28.57325457, -80.64689529],\n                {}\n            ).addTo(map_d05fa9a13a3f42c68ce060caf15488f3);\n        \n    \n            var icon_9e5b994983c3cb34ced7b13437debed2 = L.AwesomeMarkers.icon(\n                {&quot;extraClasses&quot;: &quot;fa-rotate-0&quot;, &quot;icon&quot;: &quot;info-sign&quot;, &quot;iconColor&quot;: &quot;red&quot;, &quot;markerColor&quot;: &quot;red&quot;, &quot;popup&quot;: 0, &quot;prefix&quot;: &quot;glyphicon&quot;}\n            );\n            marker_89886ea76c3b609d7a10287f2f635ebd.setIcon(icon_9e5b994983c3cb34ced7b13437debed2);\n        \n    \n            var marker_cccb6ddafd76e55487504d77c77af1d9 = L.marker(\n                [28.57325457, -80.64689529],\n                {}\n            ).addTo(map_d05fa9a13a3f42c68ce060caf15488f3);\n        \n    \n            var icon_243288d81febbc3d730c548eda17e920 = L.AwesomeMarkers.icon(\n                {&quot;extraClasses&quot;: &quot;fa-rotate-0&quot;, &quot;icon&quot;: &quot;info-sign&quot;, &quot;iconColor&quot;: &quot;green&quot;, &quot;markerColor&quot;: &quot;green&quot;, &quot;popup&quot;: 1, &quot;prefix&quot;: &quot;glyphicon&quot;}\n            );\n            marker_cccb6ddafd76e55487504d77c77af1d9.setIcon(icon_243288d81febbc3d730c548eda17e920);\n        \n    \n            var marker_ffef2f0534df6e27bb9efb82258369bb = L.marker(\n                [28.57325457, -80.64689529],\n                {}\n            ).addTo(map_d05fa9a13a3f42c68ce060caf15488f3);\n        \n    \n            var icon_c93786b0f48e322f8731b85b25f50c7d = L.AwesomeMarkers.icon(\n                {&quot;extraClasses&quot;: &quot;fa-rotate-0&quot;, &quot;icon&quot;: &quot;info-sign&quot;, &quot;iconColor&quot;: &quot;green&quot;, &quot;markerColor&quot;: &quot;green&quot;, &quot;popup&quot;: 1, &quot;prefix&quot;: &quot;glyphicon&quot;}\n            );\n            marker_ffef2f0534df6e27bb9efb82258369bb.setIcon(icon_c93786b0f48e322f8731b85b25f50c7d);\n        \n    \n            var marker_b0ac6115cd92bb5f4babc748e09a95b7 = L.marker(\n                [28.57325457, -80.64689529],\n                {}\n            ).addTo(map_d05fa9a13a3f42c68ce060caf15488f3);\n        \n    \n            var icon_1d236a236ccf2c599d9904f6912e9bfc = L.AwesomeMarkers.icon(\n                {&quot;extraClasses&quot;: &quot;fa-rotate-0&quot;, &quot;icon&quot;: &quot;info-sign&quot;, &quot;iconColor&quot;: &quot;green&quot;, &quot;markerColor&quot;: &quot;green&quot;, &quot;popup&quot;: 1, &quot;prefix&quot;: &quot;glyphicon&quot;}\n            );\n            marker_b0ac6115cd92bb5f4babc748e09a95b7.setIcon(icon_1d236a236ccf2c599d9904f6912e9bfc);\n        \n    \n            var marker_6a2412ad4677aa83e13a36772edcc76a = L.marker(\n                [28.57325457, -80.64689529],\n                {}\n            ).addTo(map_d05fa9a13a3f42c68ce060caf15488f3);\n        \n    \n            var icon_965212c1467589ca13218c9ff4a4b0f5 = L.AwesomeMarkers.icon(\n                {&quot;extraClasses&quot;: &quot;fa-rotate-0&quot;, &quot;icon&quot;: &quot;info-sign&quot;, &quot;iconColor&quot;: &quot;green&quot;, &quot;markerColor&quot;: &quot;green&quot;, &quot;popup&quot;: 1, &quot;prefix&quot;: &quot;glyphicon&quot;}\n            );\n            marker_6a2412ad4677aa83e13a36772edcc76a.setIcon(icon_965212c1467589ca13218c9ff4a4b0f5);\n        \n    \n            var marker_ef7e56e91d361e32f090c120b1abe0af = L.marker(\n                [28.57325457, -80.64689529],\n                {}\n            ).addTo(map_d05fa9a13a3f42c68ce060caf15488f3);\n        \n    \n            var icon_cb06c1e0d8f40bf6caa06e1977f6560a = L.AwesomeMarkers.icon(\n                {&quot;extraClasses&quot;: &quot;fa-rotate-0&quot;, &quot;icon&quot;: &quot;info-sign&quot;, &quot;iconColor&quot;: &quot;green&quot;, &quot;markerColor&quot;: &quot;green&quot;, &quot;popup&quot;: 1, &quot;prefix&quot;: &quot;glyphicon&quot;}\n            );\n            marker_ef7e56e91d361e32f090c120b1abe0af.setIcon(icon_cb06c1e0d8f40bf6caa06e1977f6560a);\n        \n    \n            var marker_c841e670c40751ac807b4346145abfb8 = L.marker(\n                [28.56319718, -80.57682003],\n                {}\n            ).addTo(map_d05fa9a13a3f42c68ce060caf15488f3);\n        \n    \n            var icon_1e2e1faea2ef658ce7b0b56c0b4584e5 = L.AwesomeMarkers.icon(\n                {&quot;extraClasses&quot;: &quot;fa-rotate-0&quot;, &quot;icon&quot;: &quot;info-sign&quot;, &quot;iconColor&quot;: &quot;green&quot;, &quot;markerColor&quot;: &quot;green&quot;, &quot;popup&quot;: 1, &quot;prefix&quot;: &quot;glyphicon&quot;}\n            );\n            marker_c841e670c40751ac807b4346145abfb8.setIcon(icon_1e2e1faea2ef658ce7b0b56c0b4584e5);\n        \n    \n            var marker_37fb21f2d818c5a30c6113b454aa5572 = L.marker(\n                [28.56319718, -80.57682003],\n                {}\n            ).addTo(map_d05fa9a13a3f42c68ce060caf15488f3);\n        \n    \n            var icon_1191af3546905d462824e9e844ab58da = L.AwesomeMarkers.icon(\n                {&quot;extraClasses&quot;: &quot;fa-rotate-0&quot;, &quot;icon&quot;: &quot;info-sign&quot;, &quot;iconColor&quot;: &quot;green&quot;, &quot;markerColor&quot;: &quot;green&quot;, &quot;popup&quot;: 1, &quot;prefix&quot;: &quot;glyphicon&quot;}\n            );\n            marker_37fb21f2d818c5a30c6113b454aa5572.setIcon(icon_1191af3546905d462824e9e844ab58da);\n        \n    \n            var marker_3ad032cd005dc1b36ff51010793696aa = L.marker(\n                [28.56319718, -80.57682003],\n                {}\n            ).addTo(map_d05fa9a13a3f42c68ce060caf15488f3);\n        \n    \n            var icon_e8f70530abe3b066e59c53f9da849f58 = L.AwesomeMarkers.icon(\n                {&quot;extraClasses&quot;: &quot;fa-rotate-0&quot;, &quot;icon&quot;: &quot;info-sign&quot;, &quot;iconColor&quot;: &quot;red&quot;, &quot;markerColor&quot;: &quot;red&quot;, &quot;popup&quot;: 0, &quot;prefix&quot;: &quot;glyphicon&quot;}\n            );\n            marker_3ad032cd005dc1b36ff51010793696aa.setIcon(icon_e8f70530abe3b066e59c53f9da849f58);\n        \n    \n            var marker_f1a29acd312f2c37c2c72163b62056b8 = L.marker(\n                [28.56319718, -80.57682003],\n                {}\n            ).addTo(map_d05fa9a13a3f42c68ce060caf15488f3);\n        \n    \n            var icon_b5b8f75b8d1ffc4aed3249b27c31ec7d = L.AwesomeMarkers.icon(\n                {&quot;extraClasses&quot;: &quot;fa-rotate-0&quot;, &quot;icon&quot;: &quot;info-sign&quot;, &quot;iconColor&quot;: &quot;red&quot;, &quot;markerColor&quot;: &quot;red&quot;, &quot;popup&quot;: 0, &quot;prefix&quot;: &quot;glyphicon&quot;}\n            );\n            marker_f1a29acd312f2c37c2c72163b62056b8.setIcon(icon_b5b8f75b8d1ffc4aed3249b27c31ec7d);\n        \n    \n            var marker_164de88290ba3b73a46e8ba213badb90 = L.marker(\n                [28.56319718, -80.57682003],\n                {}\n            ).addTo(map_d05fa9a13a3f42c68ce060caf15488f3);\n        \n    \n            var icon_1a2c2c947fdd080669a4778da35c2e7c = L.AwesomeMarkers.icon(\n                {&quot;extraClasses&quot;: &quot;fa-rotate-0&quot;, &quot;icon&quot;: &quot;info-sign&quot;, &quot;iconColor&quot;: &quot;red&quot;, &quot;markerColor&quot;: &quot;red&quot;, &quot;popup&quot;: 0, &quot;prefix&quot;: &quot;glyphicon&quot;}\n            );\n            marker_164de88290ba3b73a46e8ba213badb90.setIcon(icon_1a2c2c947fdd080669a4778da35c2e7c);\n        \n    \n            var marker_9ed64ea04cf5a6b60c08dad2c05ddbfc = L.marker(\n                [28.56319718, -80.57682003],\n                {}\n            ).addTo(map_d05fa9a13a3f42c68ce060caf15488f3);\n        \n    \n            var icon_e2df39def8db2c605d7f063f494e3849 = L.AwesomeMarkers.icon(\n                {&quot;extraClasses&quot;: &quot;fa-rotate-0&quot;, &quot;icon&quot;: &quot;info-sign&quot;, &quot;iconColor&quot;: &quot;green&quot;, &quot;markerColor&quot;: &quot;green&quot;, &quot;popup&quot;: 1, &quot;prefix&quot;: &quot;glyphicon&quot;}\n            );\n            marker_9ed64ea04cf5a6b60c08dad2c05ddbfc.setIcon(icon_e2df39def8db2c605d7f063f494e3849);\n        \n    \n            var marker_781291ecebf68e4d07061a24bb970ef9 = L.marker(\n                [28.56319718, -80.57682003],\n                {}\n            ).addTo(map_d05fa9a13a3f42c68ce060caf15488f3);\n        \n    \n            var icon_36ab6ffed6a95bddb405d374985fbfea = L.AwesomeMarkers.icon(\n                {&quot;extraClasses&quot;: &quot;fa-rotate-0&quot;, &quot;icon&quot;: &quot;info-sign&quot;, &quot;iconColor&quot;: &quot;red&quot;, &quot;markerColor&quot;: &quot;red&quot;, &quot;popup&quot;: 0, &quot;prefix&quot;: &quot;glyphicon&quot;}\n            );\n            marker_781291ecebf68e4d07061a24bb970ef9.setIcon(icon_36ab6ffed6a95bddb405d374985fbfea);\n        \n&lt;/script&gt;\n&lt;/html&gt;\" style=\"position:absolute;width:100%;height:100%;left:0;top:0;border:none !important;\" allowfullscreen webkitallowfullscreen mozallowfullscreen></iframe></div></div>"
          },
          "metadata": {}
        }
      ]
    },
    {
      "cell_type": "markdown",
      "source": "Your updated map may look like the following screenshots:\n",
      "metadata": {}
    },
    {
      "cell_type": "markdown",
      "source": "<center>\n    <img src=\"https://cf-courses-data.s3.us.cloud-object-storage.appdomain.cloud/IBM-DS0321EN-SkillsNetwork/labs/module_3/images/launch_site_marker_cluster.png\">\n</center>\n",
      "metadata": {}
    },
    {
      "cell_type": "markdown",
      "source": "<center>\n    <img src=\"https://cf-courses-data.s3.us.cloud-object-storage.appdomain.cloud/IBM-DS0321EN-SkillsNetwork/labs/module_3/images/launch_site_marker_cluster_zoomed.png\">\n</center>\n",
      "metadata": {}
    },
    {
      "cell_type": "markdown",
      "source": "From the color-labeled markers in marker clusters, you should be able to easily identify which launch sites have relatively high success rates.\n",
      "metadata": {}
    },
    {
      "cell_type": "code",
      "source": "# TASK 3: Calculate the distances between a launch site to its proximities\n",
      "metadata": {},
      "execution_count": null,
      "outputs": []
    },
    {
      "cell_type": "markdown",
      "source": "Next, we need to explore and analyze the proximities of launch sites.\n",
      "metadata": {}
    },
    {
      "cell_type": "markdown",
      "source": "Let's first add a `MousePosition` on the map to get coordinate for a mouse over a point on the map. As such, while you are exploring the map, you can easily find the coordinates of any points of interests (such as railway)\n",
      "metadata": {}
    },
    {
      "cell_type": "code",
      "source": "# Add Mouse Position to get the coordinate (Lat, Long) for a mouse over on the map\nsite_map = folium.Map(location=nasa_coordinate, zoom_start=5)\nformatter = \"function(num) {return L.Util.formatNum(num, 5);};\"\nmouse_position = MousePosition(\n    position='topright',\n    separator=' Long: ',\n    empty_string='NaN',\n    lng_first=False,\n    num_digits=20,\n    prefix='Lat:',\n    lat_formatter=formatter,\n    lng_formatter=formatter,\n)\n\nsite_map.add_child(mouse_position)\nsite_map",
      "metadata": {
        "trusted": true
      },
      "execution_count": 104,
      "outputs": [
        {
          "execution_count": 104,
          "output_type": "execute_result",
          "data": {
            "text/plain": "<folium.folium.Map at 0x4f5a358>",
            "text/html": "<div style=\"width:100%;\"><div style=\"position:relative;width:100%;height:0;padding-bottom:60%;\"><span style=\"color:#565656\">Make this Notebook Trusted to load map: File -> Trust Notebook</span><iframe srcdoc=\"&lt;!DOCTYPE html&gt;\n&lt;html&gt;\n&lt;head&gt;\n    \n    &lt;meta http-equiv=&quot;content-type&quot; content=&quot;text/html; charset=UTF-8&quot; /&gt;\n    \n        &lt;script&gt;\n            L_NO_TOUCH = false;\n            L_DISABLE_3D = false;\n        &lt;/script&gt;\n    \n    &lt;style&gt;html, body {width: 100%;height: 100%;margin: 0;padding: 0;}&lt;/style&gt;\n    &lt;style&gt;#map {position:absolute;top:0;bottom:0;right:0;left:0;}&lt;/style&gt;\n    &lt;script src=&quot;https://cdn.jsdelivr.net/npm/leaflet@1.9.3/dist/leaflet.js&quot;&gt;&lt;/script&gt;\n    &lt;script src=&quot;https://code.jquery.com/jquery-1.12.4.min.js&quot;&gt;&lt;/script&gt;\n    &lt;script src=&quot;https://cdn.jsdelivr.net/npm/bootstrap@5.2.2/dist/js/bootstrap.bundle.min.js&quot;&gt;&lt;/script&gt;\n    &lt;script src=&quot;https://cdnjs.cloudflare.com/ajax/libs/Leaflet.awesome-markers/2.0.2/leaflet.awesome-markers.js&quot;&gt;&lt;/script&gt;\n    &lt;link rel=&quot;stylesheet&quot; href=&quot;https://cdn.jsdelivr.net/npm/leaflet@1.9.3/dist/leaflet.css&quot;/&gt;\n    &lt;link rel=&quot;stylesheet&quot; href=&quot;https://cdn.jsdelivr.net/npm/bootstrap@5.2.2/dist/css/bootstrap.min.css&quot;/&gt;\n    &lt;link rel=&quot;stylesheet&quot; href=&quot;https://netdna.bootstrapcdn.com/bootstrap/3.0.0/css/bootstrap.min.css&quot;/&gt;\n    &lt;link rel=&quot;stylesheet&quot; href=&quot;https://cdn.jsdelivr.net/npm/@fortawesome/fontawesome-free@6.2.0/css/all.min.css&quot;/&gt;\n    &lt;link rel=&quot;stylesheet&quot; href=&quot;https://cdnjs.cloudflare.com/ajax/libs/Leaflet.awesome-markers/2.0.2/leaflet.awesome-markers.css&quot;/&gt;\n    &lt;link rel=&quot;stylesheet&quot; href=&quot;https://cdn.jsdelivr.net/gh/python-visualization/folium/folium/templates/leaflet.awesome.rotate.min.css&quot;/&gt;\n    \n            &lt;meta name=&quot;viewport&quot; content=&quot;width=device-width,\n                initial-scale=1.0, maximum-scale=1.0, user-scalable=no&quot; /&gt;\n            &lt;style&gt;\n                #map_6191a9e43f5592933b2f77c6da526426 {\n                    position: relative;\n                    width: 100.0%;\n                    height: 100.0%;\n                    left: 0.0%;\n                    top: 0.0%;\n                }\n                .leaflet-container { font-size: 1rem; }\n            &lt;/style&gt;\n        \n    &lt;script src=&quot;https://cdn.jsdelivr.net/gh/ardhi/Leaflet.MousePosition/src/L.Control.MousePosition.min.js&quot;&gt;&lt;/script&gt;\n    &lt;link rel=&quot;stylesheet&quot; href=&quot;https://cdn.jsdelivr.net/gh/ardhi/Leaflet.MousePosition/src/L.Control.MousePosition.min.css&quot;/&gt;\n&lt;/head&gt;\n&lt;body&gt;\n    \n    \n            &lt;div class=&quot;folium-map&quot; id=&quot;map_6191a9e43f5592933b2f77c6da526426&quot; &gt;&lt;/div&gt;\n        \n&lt;/body&gt;\n&lt;script&gt;\n    \n    \n            var map_6191a9e43f5592933b2f77c6da526426 = L.map(\n                &quot;map_6191a9e43f5592933b2f77c6da526426&quot;,\n                {\n                    center: [29.559684888503615, -95.0830971930759],\n                    crs: L.CRS.EPSG3857,\n                    zoom: 5,\n                    zoomControl: true,\n                    preferCanvas: false,\n                }\n            );\n\n            \n\n        \n    \n            var tile_layer_c971dd4f8c3f6cad2778163b66a4b007 = L.tileLayer(\n                &quot;https://{s}.tile.openstreetmap.org/{z}/{x}/{y}.png&quot;,\n                {&quot;attribution&quot;: &quot;Data by \\u0026copy; \\u003ca target=\\&quot;_blank\\&quot; href=\\&quot;http://openstreetmap.org\\&quot;\\u003eOpenStreetMap\\u003c/a\\u003e, under \\u003ca target=\\&quot;_blank\\&quot; href=\\&quot;http://www.openstreetmap.org/copyright\\&quot;\\u003eODbL\\u003c/a\\u003e.&quot;, &quot;detectRetina&quot;: false, &quot;maxNativeZoom&quot;: 18, &quot;maxZoom&quot;: 18, &quot;minZoom&quot;: 0, &quot;noWrap&quot;: false, &quot;opacity&quot;: 1, &quot;subdomains&quot;: &quot;abc&quot;, &quot;tms&quot;: false}\n            ).addTo(map_6191a9e43f5592933b2f77c6da526426);\n        \n    \n            var mouse_position_cdf580022289090845a6a9196d58d3cc = new L.Control.MousePosition(\n                {&quot;emptyString&quot;: &quot;NaN&quot;, &quot;lngFirst&quot;: false, &quot;numDigits&quot;: 20, &quot;position&quot;: &quot;topright&quot;, &quot;prefix&quot;: &quot;Lat:&quot;, &quot;separator&quot;: &quot; Long: &quot;}\n            );\n            mouse_position_cdf580022289090845a6a9196d58d3cc.options[&quot;latFormatter&quot;] =\n                function(num) {return L.Util.formatNum(num, 5);};;\n            mouse_position_cdf580022289090845a6a9196d58d3cc.options[&quot;lngFormatter&quot;] =\n                function(num) {return L.Util.formatNum(num, 5);};;\n            map_6191a9e43f5592933b2f77c6da526426.addControl(mouse_position_cdf580022289090845a6a9196d58d3cc);\n        \n&lt;/script&gt;\n&lt;/html&gt;\" style=\"position:absolute;width:100%;height:100%;left:0;top:0;border:none !important;\" allowfullscreen webkitallowfullscreen mozallowfullscreen></iframe></div></div>"
          },
          "metadata": {}
        }
      ]
    },
    {
      "cell_type": "markdown",
      "source": "Now zoom in to a launch site and explore its proximity to see if you can easily find any railway, highway, coastline, etc. Move your mouse to these points and mark down their coordinates (shown on the top-left) in order to the distance to the launch site.\n",
      "metadata": {}
    },
    {
      "cell_type": "markdown",
      "source": "Now zoom in to a launch site and explore its proximity to see if you can easily find any railway, highway, coastline, etc. Move your mouse to these points and mark down their coordinates (shown on the top-left) in order to the distance to the launch site.\n",
      "metadata": {}
    },
    {
      "cell_type": "code",
      "source": "from math import sin, cos, sqrt, atan2, radians\n\ndef calculate_distance(lat1, lon1, lat2, lon2):\n    # approximate radius of earth in km\n    R = 6373.0\n\n    lat1 = radians(lat1)\n    lon1 = radians(lon1)\n    lat2 = radians(lat2)\n    lon2 = radians(lon2)\n\n    dlon = lon2 - lon1\n    dlat = lat2 - lat1\n\n    a = sin(dlat / 2)**2 + cos(lat1) * cos(lat2) * sin(dlon / 2)**2\n    c = 2 * atan2(sqrt(a), sqrt(1 - a))\n\n    distance = R * c\n    return distance",
      "metadata": {
        "trusted": true
      },
      "execution_count": 105,
      "outputs": []
    },
    {
      "cell_type": "markdown",
      "source": "*TODO:* Mark down a point on the closest coastline using MousePosition and calculate the distance between the coastline point and the launch site.\n",
      "metadata": {}
    },
    {
      "cell_type": "code",
      "source": "# find coordinate of the closet coastline\n# e.g.,: Lat: 28.56367  Lon: -80.57163\n# distance_coastline = calculate_distance(launch_site_lat, launch_site_lon, coastline_lat, coastline_lon)",
      "metadata": {},
      "execution_count": null,
      "outputs": []
    },
    {
      "cell_type": "code",
      "source": "# Create and add a folium.Marker on your selected closest coastline point on the map\n# Display the distance between coastline point and launch site using the icon property \n# for example\n# distance_marker = folium.Marker(\n#    coordinate,\n#    icon=DivIcon(\n#        icon_size=(20,20),\n#        icon_anchor=(0,0),\n#        html='<div style=\"font-size: 12; color:#d35400;\"><b>%s</b></div>' % \"{:10.2f} KM\".format(distance),\n#        )\n#    )\nlaunch_site_lat, launch_site_lon = 28.563197, -80.576820\ncoastline_lat, coastline_lon = 28.56319, -80.56785\n\ndistance_coastline = calculate_distance(launch_site_lat, launch_site_lon, coastline_lat, coastline_lon)\ndistance_coastline",
      "metadata": {
        "trusted": true
      },
      "execution_count": 107,
      "outputs": [
        {
          "execution_count": 107,
          "output_type": "execute_result",
          "data": {
            "text/plain": "0.8762983388668404"
          },
          "metadata": {}
        }
      ]
    },
    {
      "cell_type": "markdown",
      "source": "*TODO:* Draw a `PolyLine` between a launch site to the selected coastline point\n",
      "metadata": {}
    },
    {
      "cell_type": "code",
      "source": "# Create a `folium.PolyLine` object using the coastline coordinates and launch site coordinate\nlines=folium.PolyLine(locations=[[launch_site_lat, launch_site_lon], [coastline_lat, coastline_lon]], weight=1)\nsite_map.add_child(lines)",
      "metadata": {
        "trusted": true
      },
      "execution_count": 111,
      "outputs": [
        {
          "execution_count": 111,
          "output_type": "execute_result",
          "data": {
            "text/plain": "<folium.folium.Map at 0x4f5a358>",
            "text/html": "<div style=\"width:100%;\"><div style=\"position:relative;width:100%;height:0;padding-bottom:60%;\"><span style=\"color:#565656\">Make this Notebook Trusted to load map: File -> Trust Notebook</span><iframe srcdoc=\"&lt;!DOCTYPE html&gt;\n&lt;html&gt;\n&lt;head&gt;\n    \n    &lt;meta http-equiv=&quot;content-type&quot; content=&quot;text/html; charset=UTF-8&quot; /&gt;\n    \n        &lt;script&gt;\n            L_NO_TOUCH = false;\n            L_DISABLE_3D = false;\n        &lt;/script&gt;\n    \n    &lt;style&gt;html, body {width: 100%;height: 100%;margin: 0;padding: 0;}&lt;/style&gt;\n    &lt;style&gt;#map {position:absolute;top:0;bottom:0;right:0;left:0;}&lt;/style&gt;\n    &lt;script src=&quot;https://cdn.jsdelivr.net/npm/leaflet@1.9.3/dist/leaflet.js&quot;&gt;&lt;/script&gt;\n    &lt;script src=&quot;https://code.jquery.com/jquery-1.12.4.min.js&quot;&gt;&lt;/script&gt;\n    &lt;script src=&quot;https://cdn.jsdelivr.net/npm/bootstrap@5.2.2/dist/js/bootstrap.bundle.min.js&quot;&gt;&lt;/script&gt;\n    &lt;script src=&quot;https://cdnjs.cloudflare.com/ajax/libs/Leaflet.awesome-markers/2.0.2/leaflet.awesome-markers.js&quot;&gt;&lt;/script&gt;\n    &lt;link rel=&quot;stylesheet&quot; href=&quot;https://cdn.jsdelivr.net/npm/leaflet@1.9.3/dist/leaflet.css&quot;/&gt;\n    &lt;link rel=&quot;stylesheet&quot; href=&quot;https://cdn.jsdelivr.net/npm/bootstrap@5.2.2/dist/css/bootstrap.min.css&quot;/&gt;\n    &lt;link rel=&quot;stylesheet&quot; href=&quot;https://netdna.bootstrapcdn.com/bootstrap/3.0.0/css/bootstrap.min.css&quot;/&gt;\n    &lt;link rel=&quot;stylesheet&quot; href=&quot;https://cdn.jsdelivr.net/npm/@fortawesome/fontawesome-free@6.2.0/css/all.min.css&quot;/&gt;\n    &lt;link rel=&quot;stylesheet&quot; href=&quot;https://cdnjs.cloudflare.com/ajax/libs/Leaflet.awesome-markers/2.0.2/leaflet.awesome-markers.css&quot;/&gt;\n    &lt;link rel=&quot;stylesheet&quot; href=&quot;https://cdn.jsdelivr.net/gh/python-visualization/folium/folium/templates/leaflet.awesome.rotate.min.css&quot;/&gt;\n    \n            &lt;meta name=&quot;viewport&quot; content=&quot;width=device-width,\n                initial-scale=1.0, maximum-scale=1.0, user-scalable=no&quot; /&gt;\n            &lt;style&gt;\n                #map_6191a9e43f5592933b2f77c6da526426 {\n                    position: relative;\n                    width: 100.0%;\n                    height: 100.0%;\n                    left: 0.0%;\n                    top: 0.0%;\n                }\n                .leaflet-container { font-size: 1rem; }\n            &lt;/style&gt;\n        \n    &lt;script src=&quot;https://cdn.jsdelivr.net/gh/ardhi/Leaflet.MousePosition/src/L.Control.MousePosition.min.js&quot;&gt;&lt;/script&gt;\n    &lt;link rel=&quot;stylesheet&quot; href=&quot;https://cdn.jsdelivr.net/gh/ardhi/Leaflet.MousePosition/src/L.Control.MousePosition.min.css&quot;/&gt;\n&lt;/head&gt;\n&lt;body&gt;\n    \n    \n            &lt;div class=&quot;folium-map&quot; id=&quot;map_6191a9e43f5592933b2f77c6da526426&quot; &gt;&lt;/div&gt;\n        \n&lt;/body&gt;\n&lt;script&gt;\n    \n    \n            var map_6191a9e43f5592933b2f77c6da526426 = L.map(\n                &quot;map_6191a9e43f5592933b2f77c6da526426&quot;,\n                {\n                    center: [29.559684888503615, -95.0830971930759],\n                    crs: L.CRS.EPSG3857,\n                    zoom: 5,\n                    zoomControl: true,\n                    preferCanvas: false,\n                }\n            );\n\n            \n\n        \n    \n            var tile_layer_c971dd4f8c3f6cad2778163b66a4b007 = L.tileLayer(\n                &quot;https://{s}.tile.openstreetmap.org/{z}/{x}/{y}.png&quot;,\n                {&quot;attribution&quot;: &quot;Data by \\u0026copy; \\u003ca target=\\&quot;_blank\\&quot; href=\\&quot;http://openstreetmap.org\\&quot;\\u003eOpenStreetMap\\u003c/a\\u003e, under \\u003ca target=\\&quot;_blank\\&quot; href=\\&quot;http://www.openstreetmap.org/copyright\\&quot;\\u003eODbL\\u003c/a\\u003e.&quot;, &quot;detectRetina&quot;: false, &quot;maxNativeZoom&quot;: 18, &quot;maxZoom&quot;: 18, &quot;minZoom&quot;: 0, &quot;noWrap&quot;: false, &quot;opacity&quot;: 1, &quot;subdomains&quot;: &quot;abc&quot;, &quot;tms&quot;: false}\n            ).addTo(map_6191a9e43f5592933b2f77c6da526426);\n        \n    \n            var mouse_position_cdf580022289090845a6a9196d58d3cc = new L.Control.MousePosition(\n                {&quot;emptyString&quot;: &quot;NaN&quot;, &quot;lngFirst&quot;: false, &quot;numDigits&quot;: 20, &quot;position&quot;: &quot;topright&quot;, &quot;prefix&quot;: &quot;Lat:&quot;, &quot;separator&quot;: &quot; Long: &quot;}\n            );\n            mouse_position_cdf580022289090845a6a9196d58d3cc.options[&quot;latFormatter&quot;] =\n                function(num) {return L.Util.formatNum(num, 5);};;\n            mouse_position_cdf580022289090845a6a9196d58d3cc.options[&quot;lngFormatter&quot;] =\n                function(num) {return L.Util.formatNum(num, 5);};;\n            map_6191a9e43f5592933b2f77c6da526426.addControl(mouse_position_cdf580022289090845a6a9196d58d3cc);\n        \n    \n            var poly_line_d921d79b125a9b77eab29d6ca0f5ee2b = L.polyline(\n                [[28.563197, -80.57682], [28.56319, -80.56785]],\n                {&quot;bubblingMouseEvents&quot;: true, &quot;color&quot;: &quot;#3388ff&quot;, &quot;dashArray&quot;: null, &quot;dashOffset&quot;: null, &quot;fill&quot;: false, &quot;fillColor&quot;: &quot;#3388ff&quot;, &quot;fillOpacity&quot;: 0.2, &quot;fillRule&quot;: &quot;evenodd&quot;, &quot;lineCap&quot;: &quot;round&quot;, &quot;lineJoin&quot;: &quot;round&quot;, &quot;noClip&quot;: false, &quot;opacity&quot;: 1.0, &quot;smoothFactor&quot;: 1.0, &quot;stroke&quot;: true, &quot;weight&quot;: 1}\n            ).addTo(map_6191a9e43f5592933b2f77c6da526426);\n        \n&lt;/script&gt;\n&lt;/html&gt;\" style=\"position:absolute;width:100%;height:100%;left:0;top:0;border:none !important;\" allowfullscreen webkitallowfullscreen mozallowfullscreen></iframe></div></div>"
          },
          "metadata": {}
        }
      ]
    },
    {
      "cell_type": "markdown",
      "source": "Your updated map with distance line should look like the following screenshot:\n",
      "metadata": {}
    },
    {
      "cell_type": "markdown",
      "source": "<center>\n    <img src=\"https://cf-courses-data.s3.us.cloud-object-storage.appdomain.cloud/IBM-DS0321EN-SkillsNetwork/labs/module_3/images/launch_site_marker_distance.png\">\n</center>\n",
      "metadata": {}
    },
    {
      "cell_type": "markdown",
      "source": "*TODO:* Similarly, you can draw a line betwee a launch site to its closest city, railway, highway, etc. You need to use `MousePosition` to find the their coordinates on the map first\n",
      "metadata": {}
    },
    {
      "cell_type": "markdown",
      "source": "A railway map symbol may look like this:\n",
      "metadata": {}
    },
    {
      "cell_type": "markdown",
      "source": "<center>\n    <img src=\"https://cf-courses-data.s3.us.cloud-object-storage.appdomain.cloud/IBM-DS0321EN-SkillsNetwork/labs/module_3/images/railway.png\">\n</center>\n",
      "metadata": {}
    },
    {
      "cell_type": "markdown",
      "source": "A highway map symbol may look like this:\n",
      "metadata": {}
    },
    {
      "cell_type": "markdown",
      "source": "<center>\n    <img src=\"https://cf-courses-data.s3.us.cloud-object-storage.appdomain.cloud/IBM-DS0321EN-SkillsNetwork/labs/module_3/images/highway.png\">\n</center>\n",
      "metadata": {}
    },
    {
      "cell_type": "markdown",
      "source": "A city map symbol may look like this:\n",
      "metadata": {}
    },
    {
      "cell_type": "markdown",
      "source": "<center>\n    <img src=\"https://cf-courses-data.s3.us.cloud-object-storage.appdomain.cloud/IBM-DS0321EN-SkillsNetwork/labs/module_3/images/city.png\">\n</center>\n",
      "metadata": {}
    },
    {
      "cell_type": "code",
      "source": "# Create a marker with distance to a closest city, railway, highway, etc.\n# Draw a line between the marker to the launch site\n",
      "metadata": {},
      "execution_count": null,
      "outputs": []
    },
    {
      "cell_type": "code",
      "source": "city_lat, city_lon = 28.53, -81.38  # coords for Orlando\n\nline2=folium.PolyLine(locations=[[launch_site_lat, launch_site_lon], [city_lat, city_lon]], weight=3)\nsite_map.add_child(line2)",
      "metadata": {
        "trusted": true
      },
      "execution_count": 112,
      "outputs": [
        {
          "execution_count": 112,
          "output_type": "execute_result",
          "data": {
            "text/plain": "<folium.folium.Map at 0x4f5a358>",
            "text/html": "<div style=\"width:100%;\"><div style=\"position:relative;width:100%;height:0;padding-bottom:60%;\"><span style=\"color:#565656\">Make this Notebook Trusted to load map: File -> Trust Notebook</span><iframe srcdoc=\"&lt;!DOCTYPE html&gt;\n&lt;html&gt;\n&lt;head&gt;\n    \n    &lt;meta http-equiv=&quot;content-type&quot; content=&quot;text/html; charset=UTF-8&quot; /&gt;\n    \n        &lt;script&gt;\n            L_NO_TOUCH = false;\n            L_DISABLE_3D = false;\n        &lt;/script&gt;\n    \n    &lt;style&gt;html, body {width: 100%;height: 100%;margin: 0;padding: 0;}&lt;/style&gt;\n    &lt;style&gt;#map {position:absolute;top:0;bottom:0;right:0;left:0;}&lt;/style&gt;\n    &lt;script src=&quot;https://cdn.jsdelivr.net/npm/leaflet@1.9.3/dist/leaflet.js&quot;&gt;&lt;/script&gt;\n    &lt;script src=&quot;https://code.jquery.com/jquery-1.12.4.min.js&quot;&gt;&lt;/script&gt;\n    &lt;script src=&quot;https://cdn.jsdelivr.net/npm/bootstrap@5.2.2/dist/js/bootstrap.bundle.min.js&quot;&gt;&lt;/script&gt;\n    &lt;script src=&quot;https://cdnjs.cloudflare.com/ajax/libs/Leaflet.awesome-markers/2.0.2/leaflet.awesome-markers.js&quot;&gt;&lt;/script&gt;\n    &lt;link rel=&quot;stylesheet&quot; href=&quot;https://cdn.jsdelivr.net/npm/leaflet@1.9.3/dist/leaflet.css&quot;/&gt;\n    &lt;link rel=&quot;stylesheet&quot; href=&quot;https://cdn.jsdelivr.net/npm/bootstrap@5.2.2/dist/css/bootstrap.min.css&quot;/&gt;\n    &lt;link rel=&quot;stylesheet&quot; href=&quot;https://netdna.bootstrapcdn.com/bootstrap/3.0.0/css/bootstrap.min.css&quot;/&gt;\n    &lt;link rel=&quot;stylesheet&quot; href=&quot;https://cdn.jsdelivr.net/npm/@fortawesome/fontawesome-free@6.2.0/css/all.min.css&quot;/&gt;\n    &lt;link rel=&quot;stylesheet&quot; href=&quot;https://cdnjs.cloudflare.com/ajax/libs/Leaflet.awesome-markers/2.0.2/leaflet.awesome-markers.css&quot;/&gt;\n    &lt;link rel=&quot;stylesheet&quot; href=&quot;https://cdn.jsdelivr.net/gh/python-visualization/folium/folium/templates/leaflet.awesome.rotate.min.css&quot;/&gt;\n    \n            &lt;meta name=&quot;viewport&quot; content=&quot;width=device-width,\n                initial-scale=1.0, maximum-scale=1.0, user-scalable=no&quot; /&gt;\n            &lt;style&gt;\n                #map_6191a9e43f5592933b2f77c6da526426 {\n                    position: relative;\n                    width: 100.0%;\n                    height: 100.0%;\n                    left: 0.0%;\n                    top: 0.0%;\n                }\n                .leaflet-container { font-size: 1rem; }\n            &lt;/style&gt;\n        \n    &lt;script src=&quot;https://cdn.jsdelivr.net/gh/ardhi/Leaflet.MousePosition/src/L.Control.MousePosition.min.js&quot;&gt;&lt;/script&gt;\n    &lt;link rel=&quot;stylesheet&quot; href=&quot;https://cdn.jsdelivr.net/gh/ardhi/Leaflet.MousePosition/src/L.Control.MousePosition.min.css&quot;/&gt;\n&lt;/head&gt;\n&lt;body&gt;\n    \n    \n            &lt;div class=&quot;folium-map&quot; id=&quot;map_6191a9e43f5592933b2f77c6da526426&quot; &gt;&lt;/div&gt;\n        \n&lt;/body&gt;\n&lt;script&gt;\n    \n    \n            var map_6191a9e43f5592933b2f77c6da526426 = L.map(\n                &quot;map_6191a9e43f5592933b2f77c6da526426&quot;,\n                {\n                    center: [29.559684888503615, -95.0830971930759],\n                    crs: L.CRS.EPSG3857,\n                    zoom: 5,\n                    zoomControl: true,\n                    preferCanvas: false,\n                }\n            );\n\n            \n\n        \n    \n            var tile_layer_c971dd4f8c3f6cad2778163b66a4b007 = L.tileLayer(\n                &quot;https://{s}.tile.openstreetmap.org/{z}/{x}/{y}.png&quot;,\n                {&quot;attribution&quot;: &quot;Data by \\u0026copy; \\u003ca target=\\&quot;_blank\\&quot; href=\\&quot;http://openstreetmap.org\\&quot;\\u003eOpenStreetMap\\u003c/a\\u003e, under \\u003ca target=\\&quot;_blank\\&quot; href=\\&quot;http://www.openstreetmap.org/copyright\\&quot;\\u003eODbL\\u003c/a\\u003e.&quot;, &quot;detectRetina&quot;: false, &quot;maxNativeZoom&quot;: 18, &quot;maxZoom&quot;: 18, &quot;minZoom&quot;: 0, &quot;noWrap&quot;: false, &quot;opacity&quot;: 1, &quot;subdomains&quot;: &quot;abc&quot;, &quot;tms&quot;: false}\n            ).addTo(map_6191a9e43f5592933b2f77c6da526426);\n        \n    \n            var mouse_position_cdf580022289090845a6a9196d58d3cc = new L.Control.MousePosition(\n                {&quot;emptyString&quot;: &quot;NaN&quot;, &quot;lngFirst&quot;: false, &quot;numDigits&quot;: 20, &quot;position&quot;: &quot;topright&quot;, &quot;prefix&quot;: &quot;Lat:&quot;, &quot;separator&quot;: &quot; Long: &quot;}\n            );\n            mouse_position_cdf580022289090845a6a9196d58d3cc.options[&quot;latFormatter&quot;] =\n                function(num) {return L.Util.formatNum(num, 5);};;\n            mouse_position_cdf580022289090845a6a9196d58d3cc.options[&quot;lngFormatter&quot;] =\n                function(num) {return L.Util.formatNum(num, 5);};;\n            map_6191a9e43f5592933b2f77c6da526426.addControl(mouse_position_cdf580022289090845a6a9196d58d3cc);\n        \n    \n            var poly_line_d921d79b125a9b77eab29d6ca0f5ee2b = L.polyline(\n                [[28.563197, -80.57682], [28.56319, -80.56785]],\n                {&quot;bubblingMouseEvents&quot;: true, &quot;color&quot;: &quot;#3388ff&quot;, &quot;dashArray&quot;: null, &quot;dashOffset&quot;: null, &quot;fill&quot;: false, &quot;fillColor&quot;: &quot;#3388ff&quot;, &quot;fillOpacity&quot;: 0.2, &quot;fillRule&quot;: &quot;evenodd&quot;, &quot;lineCap&quot;: &quot;round&quot;, &quot;lineJoin&quot;: &quot;round&quot;, &quot;noClip&quot;: false, &quot;opacity&quot;: 1.0, &quot;smoothFactor&quot;: 1.0, &quot;stroke&quot;: true, &quot;weight&quot;: 1}\n            ).addTo(map_6191a9e43f5592933b2f77c6da526426);\n        \n    \n            var poly_line_4a74286655228575b4672714e27338a9 = L.polyline(\n                [[28.563197, -80.57682], [28.53, -81.38]],\n                {&quot;bubblingMouseEvents&quot;: true, &quot;color&quot;: &quot;#3388ff&quot;, &quot;dashArray&quot;: null, &quot;dashOffset&quot;: null, &quot;fill&quot;: false, &quot;fillColor&quot;: &quot;#3388ff&quot;, &quot;fillOpacity&quot;: 0.2, &quot;fillRule&quot;: &quot;evenodd&quot;, &quot;lineCap&quot;: &quot;round&quot;, &quot;lineJoin&quot;: &quot;round&quot;, &quot;noClip&quot;: false, &quot;opacity&quot;: 1.0, &quot;smoothFactor&quot;: 1.0, &quot;stroke&quot;: true, &quot;weight&quot;: 3}\n            ).addTo(map_6191a9e43f5592933b2f77c6da526426);\n        \n&lt;/script&gt;\n&lt;/html&gt;\" style=\"position:absolute;width:100%;height:100%;left:0;top:0;border:none !important;\" allowfullscreen webkitallowfullscreen mozallowfullscreen></iframe></div></div>"
          },
          "metadata": {}
        }
      ]
    },
    {
      "cell_type": "code",
      "source": "",
      "metadata": {},
      "execution_count": null,
      "outputs": []
    },
    {
      "cell_type": "markdown",
      "source": "After you plot distance lines to the proximities, you can answer the following questions easily:\n\n*   Are launch sites in close proximity to railways?\n*   Are launch sites in close proximity to highways?\n*   Are launch sites in close proximity to coastline?\n*   Do launch sites keep certain distance away from cities?\n\nAlso please try to explain your findings.\n",
      "metadata": {}
    },
    {
      "cell_type": "markdown",
      "source": "# Next Steps:\n\nNow you have discovered many interesting insights related to the launch sites' location using folium, in a very interactive way. Next, you will need to build a dashboard using Ploty Dash on detailed launch records.\n",
      "metadata": {}
    },
    {
      "cell_type": "markdown",
      "source": "## Authors\n",
      "metadata": {}
    },
    {
      "cell_type": "markdown",
      "source": "[Pratiksha Verma](https://www.linkedin.com/in/pratiksha-verma-6487561b1/?utm_medium=Exinfluencer&utm_source=Exinfluencer&utm_content=000026UJ&utm_term=10006555&utm_id=NA-SkillsNetwork-Channel-SkillsNetworkCoursesIBMDS0321ENSkillsNetwork865-2022-01-01)\n",
      "metadata": {}
    },
    {
      "cell_type": "markdown",
      "source": "## Change Log\n",
      "metadata": {}
    },
    {
      "cell_type": "markdown",
      "source": "| Date (YYYY-MM-DD) | Version | Changed By      | Change Description      |\n| ----------------- | ------- | -------------   | ----------------------- |\n| 2022-11-09        | 1.0     | Pratiksha Verma | Converted initial version to Jupyterlite|\n",
      "metadata": {}
    },
    {
      "cell_type": "markdown",
      "source": "### <h3 align=\"center\"> IBM Corporation 2022. All rights reserved. <h3/>\n",
      "metadata": {}
    }
  ]
}